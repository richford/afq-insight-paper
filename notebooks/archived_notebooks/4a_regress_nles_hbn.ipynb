{
 "cells": [
  {
   "cell_type": "code",
   "execution_count": 1,
   "metadata": {
    "scrolled": true
   },
   "outputs": [],
   "source": [
    "# from dask.distributed import Client, LocalCluster\n",
    "# import logging\n",
    "\n",
    "# cluster = LocalCluster(\n",
    "#     n_workers=28,\n",
    "#     threads_per_worker=8,\n",
    "#     silence_logs=logging.DEBUG\n",
    "# )\n",
    "\n",
    "# client = Client(cluster, heartbeat_interval=10000)\n",
    "# print(client.dashboard_link)"
   ]
  },
  {
   "cell_type": "code",
   "execution_count": 39,
   "metadata": {},
   "outputs": [
    {
     "name": "stdout",
     "output_type": "stream",
     "text": [
      "0.2.9.dev460469908\n"
     ]
    }
   ],
   "source": [
    "import afqinsight as afqi\n",
    "import joblib\n",
    "import matplotlib.pyplot as plt\n",
    "import numpy as np\n",
    "import os.path as op\n",
    "import pandas as pd\n",
    "import pickle\n",
    "import seaborn as sns\n",
    "\n",
    "from datetime import datetime\n",
    "\n",
    "from skopt import BayesSearchCV\n",
    "from skopt.space import Real, Categorical, Integer\n",
    "\n",
    "from sklearn.ensemble import GradientBoostingRegressor\n",
    "from sklearn.pipeline import Pipeline\n",
    "from sklearn.preprocessing import StandardScaler\n",
    "from sklearn.impute import SimpleImputer\n",
    "from sklearn.model_selection import RepeatedKFold\n",
    "from sklearn.metrics import median_absolute_error, r2_score\n",
    "from sklearn.metrics import explained_variance_score, mean_squared_error\n",
    "\n",
    "from skopt import BayesSearchCV\n",
    "from skopt.plots import plot_convergence, plot_objective, plot_evaluations\n",
    "\n",
    "print(afqi.__version__)"
   ]
  },
  {
   "cell_type": "code",
   "execution_count": 3,
   "metadata": {},
   "outputs": [
    {
     "data": {
      "text/html": [
       "<div>\n",
       "<style scoped>\n",
       "    .dataframe tbody tr th:only-of-type {\n",
       "        vertical-align: middle;\n",
       "    }\n",
       "\n",
       "    .dataframe tbody tr th {\n",
       "        vertical-align: top;\n",
       "    }\n",
       "\n",
       "    .dataframe thead th {\n",
       "        text-align: right;\n",
       "    }\n",
       "</style>\n",
       "<table border=\"1\" class=\"dataframe\">\n",
       "  <thead>\n",
       "    <tr style=\"text-align: right;\">\n",
       "      <th></th>\n",
       "      <th>Identifiers</th>\n",
       "      <th>NLES_SR,Administration</th>\n",
       "      <th>NLES_SR,Comment_ID</th>\n",
       "      <th>NLES_SR,Data_entry</th>\n",
       "      <th>NLES_SR,Days_Baseline</th>\n",
       "      <th>NLES_SR,EID</th>\n",
       "      <th>NLES_SR,NLES_SR_01a</th>\n",
       "      <th>NLES_SR,NLES_SR_01b</th>\n",
       "      <th>NLES_SR,NLES_SR_01c</th>\n",
       "      <th>NLES_SR,NLES_SR_02a</th>\n",
       "      <th>...</th>\n",
       "      <th>NLES_SR,NLES_SR_TotalOccurance</th>\n",
       "      <th>NLES_SR,NLES_SR_Upset_Avg</th>\n",
       "      <th>NLES_SR,NLES_SR_Upset_Total</th>\n",
       "      <th>NLES_SR,PSCID</th>\n",
       "      <th>NLES_SR,START_DATE</th>\n",
       "      <th>NLES_SR,Season</th>\n",
       "      <th>NLES_SR,Site</th>\n",
       "      <th>NLES_SR,Study</th>\n",
       "      <th>NLES_SR,Visit_label</th>\n",
       "      <th>NLES_SR,Year</th>\n",
       "    </tr>\n",
       "  </thead>\n",
       "  <tbody>\n",
       "    <tr>\n",
       "      <th>1</th>\n",
       "      <td>NDARAB458VK9,assessment</td>\n",
       "      <td>All</td>\n",
       "      <td>NaN</td>\n",
       "      <td>Complete</td>\n",
       "      <td>168</td>\n",
       "      <td>NDARAB458VK9</td>\n",
       "      <td>0.0</td>\n",
       "      <td>NaN</td>\n",
       "      <td>NaN</td>\n",
       "      <td>0.0</td>\n",
       "      <td>...</td>\n",
       "      <td>11</td>\n",
       "      <td>2.88</td>\n",
       "      <td>23</td>\n",
       "      <td>NaN</td>\n",
       "      <td>1901-01-01T07:00:00Z</td>\n",
       "      <td>Winter</td>\n",
       "      <td>3</td>\n",
       "      <td>HBN</td>\n",
       "      <td>NaN</td>\n",
       "      <td>2018</td>\n",
       "    </tr>\n",
       "    <tr>\n",
       "      <th>2</th>\n",
       "      <td>NDARAB793GL3,assessment</td>\n",
       "      <td>All</td>\n",
       "      <td>NaN</td>\n",
       "      <td>Complete</td>\n",
       "      <td>321</td>\n",
       "      <td>NDARAB793GL3</td>\n",
       "      <td>0.0</td>\n",
       "      <td>NaN</td>\n",
       "      <td>NaN</td>\n",
       "      <td>1.0</td>\n",
       "      <td>...</td>\n",
       "      <td>9</td>\n",
       "      <td>3.60</td>\n",
       "      <td>18</td>\n",
       "      <td>NaN</td>\n",
       "      <td>1901-01-01T07:00:00Z</td>\n",
       "      <td>Spring</td>\n",
       "      <td>3</td>\n",
       "      <td>HBN</td>\n",
       "      <td>NaN</td>\n",
       "      <td>2018</td>\n",
       "    </tr>\n",
       "    <tr>\n",
       "      <th>3</th>\n",
       "      <td>NDARAC331VEH,assessment</td>\n",
       "      <td>All</td>\n",
       "      <td>NaN</td>\n",
       "      <td>Complete</td>\n",
       "      <td>88</td>\n",
       "      <td>NDARAC331VEH</td>\n",
       "      <td>0.0</td>\n",
       "      <td>NaN</td>\n",
       "      <td>NaN</td>\n",
       "      <td>1.0</td>\n",
       "      <td>...</td>\n",
       "      <td>12</td>\n",
       "      <td>1.89</td>\n",
       "      <td>17</td>\n",
       "      <td>NaN</td>\n",
       "      <td>1901-01-01T07:00:00Z</td>\n",
       "      <td>Spring</td>\n",
       "      <td>3</td>\n",
       "      <td>HBN</td>\n",
       "      <td>NaN</td>\n",
       "      <td>2019</td>\n",
       "    </tr>\n",
       "    <tr>\n",
       "      <th>4</th>\n",
       "      <td>NDARAC495TJ2,assessment</td>\n",
       "      <td>All</td>\n",
       "      <td>NaN</td>\n",
       "      <td>Complete</td>\n",
       "      <td>82</td>\n",
       "      <td>NDARAC495TJ2</td>\n",
       "      <td>0.0</td>\n",
       "      <td>NaN</td>\n",
       "      <td>NaN</td>\n",
       "      <td>1.0</td>\n",
       "      <td>...</td>\n",
       "      <td>3</td>\n",
       "      <td>4.00</td>\n",
       "      <td>8</td>\n",
       "      <td>NaN</td>\n",
       "      <td>1901-01-01T07:00:00Z</td>\n",
       "      <td>Fall</td>\n",
       "      <td>3</td>\n",
       "      <td>HBN</td>\n",
       "      <td>NaN</td>\n",
       "      <td>2018</td>\n",
       "    </tr>\n",
       "    <tr>\n",
       "      <th>5</th>\n",
       "      <td>NDARAC904DMU,assessment</td>\n",
       "      <td>All</td>\n",
       "      <td>NaN</td>\n",
       "      <td>Complete</td>\n",
       "      <td>86</td>\n",
       "      <td>NDARAC904DMU</td>\n",
       "      <td>0.0</td>\n",
       "      <td>NaN</td>\n",
       "      <td>NaN</td>\n",
       "      <td>0.0</td>\n",
       "      <td>...</td>\n",
       "      <td>8</td>\n",
       "      <td>2.83</td>\n",
       "      <td>17</td>\n",
       "      <td>NaN</td>\n",
       "      <td>1901-01-01T07:00:00Z</td>\n",
       "      <td>Spring</td>\n",
       "      <td>1</td>\n",
       "      <td>HBN</td>\n",
       "      <td>NaN</td>\n",
       "      <td>2017</td>\n",
       "    </tr>\n",
       "  </tbody>\n",
       "</table>\n",
       "<p>5 rows × 83 columns</p>\n",
       "</div>"
      ],
      "text/plain": [
       "               Identifiers NLES_SR,Administration  NLES_SR,Comment_ID  \\\n",
       "1  NDARAB458VK9,assessment                    All                 NaN   \n",
       "2  NDARAB793GL3,assessment                    All                 NaN   \n",
       "3  NDARAC331VEH,assessment                    All                 NaN   \n",
       "4  NDARAC495TJ2,assessment                    All                 NaN   \n",
       "5  NDARAC904DMU,assessment                    All                 NaN   \n",
       "\n",
       "  NLES_SR,Data_entry  NLES_SR,Days_Baseline   NLES_SR,EID  \\\n",
       "1           Complete                    168  NDARAB458VK9   \n",
       "2           Complete                    321  NDARAB793GL3   \n",
       "3           Complete                     88  NDARAC331VEH   \n",
       "4           Complete                     82  NDARAC495TJ2   \n",
       "5           Complete                     86  NDARAC904DMU   \n",
       "\n",
       "   NLES_SR,NLES_SR_01a  NLES_SR,NLES_SR_01b  NLES_SR,NLES_SR_01c  \\\n",
       "1                  0.0                  NaN                  NaN   \n",
       "2                  0.0                  NaN                  NaN   \n",
       "3                  0.0                  NaN                  NaN   \n",
       "4                  0.0                  NaN                  NaN   \n",
       "5                  0.0                  NaN                  NaN   \n",
       "\n",
       "   NLES_SR,NLES_SR_02a  ...  NLES_SR,NLES_SR_TotalOccurance  \\\n",
       "1                  0.0  ...                              11   \n",
       "2                  1.0  ...                               9   \n",
       "3                  1.0  ...                              12   \n",
       "4                  1.0  ...                               3   \n",
       "5                  0.0  ...                               8   \n",
       "\n",
       "   NLES_SR,NLES_SR_Upset_Avg  NLES_SR,NLES_SR_Upset_Total  NLES_SR,PSCID  \\\n",
       "1                       2.88                           23            NaN   \n",
       "2                       3.60                           18            NaN   \n",
       "3                       1.89                           17            NaN   \n",
       "4                       4.00                            8            NaN   \n",
       "5                       2.83                           17            NaN   \n",
       "\n",
       "     NLES_SR,START_DATE  NLES_SR,Season  NLES_SR,Site  NLES_SR,Study  \\\n",
       "1  1901-01-01T07:00:00Z          Winter             3            HBN   \n",
       "2  1901-01-01T07:00:00Z          Spring             3            HBN   \n",
       "3  1901-01-01T07:00:00Z          Spring             3            HBN   \n",
       "4  1901-01-01T07:00:00Z            Fall             3            HBN   \n",
       "5  1901-01-01T07:00:00Z          Spring             1            HBN   \n",
       "\n",
       "   NLES_SR,Visit_label  NLES_SR,Year  \n",
       "1                  NaN          2018  \n",
       "2                  NaN          2018  \n",
       "3                  NaN          2019  \n",
       "4                  NaN          2018  \n",
       "5                  NaN          2017  \n",
       "\n",
       "[5 rows x 83 columns]"
      ]
     },
     "execution_count": 3,
     "metadata": {},
     "output_type": "execute_result"
    }
   ],
   "source": [
    "df = pd.read_csv(\n",
    "    \"../data/raw/hbn_nles_data/NLES-2020-12-27.csv\"\n",
    ").drop(index=0, axis=\"rows\")\n",
    "df.to_csv(\"../data/raw/hbn_nles_data/subjects.csv\")\n",
    "df.head()"
   ]
  },
  {
   "cell_type": "code",
   "execution_count": 4,
   "metadata": {},
   "outputs": [],
   "source": [
    "X_dwi, y, groups, columns, subjects, classes = afqi.load_afq_data(\n",
    "    \"../data/raw/hbn_nles_data\",\n",
    "    target_cols=[\n",
    "        \"NLES_SR,NLES_SR_TotalEvents\",\n",
    "#         \"NLES_SR_TotalOccurence\",\n",
    "#         \"NLES_SR_Upset_Total\",\n",
    "#         \"NLES_SR_Upset_Avg\",\n",
    "    ],\n",
    "    index_col=\"NLES_SR,EID\"\n",
    ")"
   ]
  },
  {
   "cell_type": "code",
   "execution_count": 5,
   "metadata": {},
   "outputs": [
    {
     "name": "stdout",
     "output_type": "stream",
     "text": [
      "(1597, 3600)\n",
      "(891,)\n"
     ]
    }
   ],
   "source": [
    "print(X_dwi.shape)\n",
    "print(y.shape)"
   ]
  },
  {
   "cell_type": "code",
   "execution_count": 6,
   "metadata": {},
   "outputs": [
    {
     "name": "stdout",
     "output_type": "stream",
     "text": [
      "891\n",
      "478\n"
     ]
    }
   ],
   "source": [
    "nles_subs = df[\"NLES_SR,EID\"]\n",
    "nles_subs_unique = df[\"NLES_SR,EID\"].unique()\n",
    "print(len(nles_subs))\n",
    "missing_nles_dwi = set(nles_subs.values) - set(subjects)\n",
    "print(len(missing_nles_dwi))"
   ]
  },
  {
   "cell_type": "code",
   "execution_count": 7,
   "metadata": {},
   "outputs": [
    {
     "name": "stdout",
     "output_type": "stream",
     "text": [
      "512\n",
      "0\n"
     ]
    }
   ],
   "source": [
    "missing = pd.read_csv(\n",
    "    \"/Users/richford/Desktop/curation_dwi_mismatch.csv\"\n",
    ")\n",
    "missing_subs = missing[\"participant_id\"].values\n",
    "print(len(set(missing_subs)))\n",
    "print(len(set(missing_subs).intersection(missing_nles_dwi)))"
   ]
  },
  {
   "cell_type": "code",
   "execution_count": 79,
   "metadata": {},
   "outputs": [],
   "source": [
    "target_col = \"NLES_SR,NLES_SR_TotalOccurance\"\n",
    "\n",
    "df_y = pd.read_csv(\"../data/raw/hbn_nles_data/subjects.csv\")\n",
    "df_y = df_y[[\n",
    "    \"NLES_SR,EID\",\n",
    "    \"NLES_SR,NLES_SR_TotalEvents\",\n",
    "    \"NLES_SR,NLES_SR_TotalOccurance\",\n",
    "    \"NLES_SR,NLES_SR_Upset_Total\",\n",
    "    \"NLES_SR,NLES_SR_Upset_Avg\",\n",
    "]]\n",
    "df_y = df_y.set_index(\"NLES_SR,EID\", drop=True)\n",
    "df_subs = pd.DataFrame(index=subjects)\n",
    "df_subs = df_subs.merge(df_y, how=\"left\", left_index=True, right_index=True)\n",
    "y = df_subs[target_col].astype(np.float64).values\n",
    "nan_mask = np.logical_not(np.isnan(y))\n",
    "y = y[nan_mask]\n",
    "X = X_dwi[nan_mask, :]"
   ]
  },
  {
   "cell_type": "code",
   "execution_count": 80,
   "metadata": {},
   "outputs": [
    {
     "name": "stdout",
     "output_type": "stream",
     "text": [
      "(413, 3600)\n",
      "(413,)\n"
     ]
    }
   ],
   "source": [
    "print(X.shape)\n",
    "print(y.shape)"
   ]
  },
  {
   "cell_type": "code",
   "execution_count": 81,
   "metadata": {},
   "outputs": [
    {
     "data": {
      "text/plain": [
       "(array([105., 109.,  76.,  49.,  38.,  18.,  10.,   6.,   0.,   2.]),\n",
       " array([ 0. ,  2.9,  5.8,  8.7, 11.6, 14.5, 17.4, 20.3, 23.2, 26.1, 29. ]),\n",
       " <BarContainer object of 10 artists>)"
      ]
     },
     "execution_count": 81,
     "metadata": {},
     "output_type": "execute_result"
    },
    {
     "data": {
      "image/png": "[encoded data removed]",
      "text/plain": [
       "<Figure size 432x288 with 1 Axes>"
      ]
     },
     "metadata": {
      "needs_background": "light"
     },
     "output_type": "display_data"
    }
   ],
   "source": [
    "plt.hist(y)"
   ]
  },
  {
   "cell_type": "code",
   "execution_count": 82,
   "metadata": {
    "scrolled": true
   },
   "outputs": [],
   "source": [
    "def get_cv_results(n_repeats=5, n_splits=10,\n",
    "                   power_transformer=False, \n",
    "                   shuffle=False,\n",
    "                   ensembler=None,\n",
    "                   target_transform_func=None,\n",
    "                   target_transform_inverse_func=None,\n",
    "                   n_estimators=10):\n",
    "    if shuffle:\n",
    "        rng = np.random.default_rng()\n",
    "        y_fit = rng.permutation(y)\n",
    "    else:\n",
    "        y_fit = np.copy(y)\n",
    "\n",
    "    cv = RepeatedKFold(\n",
    "        n_splits=n_splits,\n",
    "        n_repeats=n_repeats,\n",
    "        random_state=1729\n",
    "    )\n",
    "\n",
    "    cv_results = {}\n",
    "    \n",
    "    gbr = GradientBoostingRegressor(n_estimators=500)\n",
    "    search_space = {\n",
    "        \"n_estimators\": [5, 50, 250, 500],\n",
    "        \"max_depth\": Integer(1, 10),\n",
    "        \"learning_rate\": Real(1e-2, 1, prior=\"log-uniform\"),\n",
    "        \"min_samples_split\": Real(0.1, 1, prior=\"uniform\"),\n",
    "        \"min_samples_leaf\": Real(0.1, 0.5, prior=\"uniform\"),\n",
    "        \"max_features\": Real(0.1, 1.0, prior=\"uniform\"),\n",
    "        \"subsample\": Real(0.1, 1.0, prior=\"uniform\"),\n",
    "    }\n",
    "    \n",
    "    steps = [\n",
    "        (\"impute\", SimpleImputer(strategy=\"median\")),\n",
    "        (\"scale\", StandardScaler()),\n",
    "        (\"estimate\", BayesSearchCV(\n",
    "            gbr,\n",
    "            search_space,\n",
    "            n_iter=200,\n",
    "            n_jobs=4,\n",
    "        )),\n",
    "    ]\n",
    "    pipe_skopt = Pipeline(steps)\n",
    "    \n",
    "    for cv_idx, (train_idx, test_idx) in enumerate(cv.split(X, y_fit)):\n",
    "        start = datetime.now()\n",
    "\n",
    "        X_train, X_test = X[train_idx], X[test_idx]\n",
    "        y_train, y_test = y_fit[train_idx], y_fit[test_idx]\n",
    "\n",
    "#         with joblib.parallel_backend(\"dask\"):\n",
    "        pipe_skopt.fit(X_train, y_train)\n",
    "\n",
    "        cv_results[cv_idx] = {\n",
    "            \"pipeline\": pipe_skopt,\n",
    "            \"train_idx\": train_idx,\n",
    "            \"test_idx\": test_idx,\n",
    "            \"y_pred\": pipe_skopt.predict(X_test),\n",
    "            \"y_true\": y_test,\n",
    "            \"test_mae\": median_absolute_error(y_test, pipe_skopt.predict(X_test)),\n",
    "            \"train_mae\": median_absolute_error(y_train, pipe_skopt.predict(X_train)),\n",
    "            \"test_r2\": r2_score(y_test, pipe_skopt.predict(X_test)),\n",
    "            \"train_r2\": r2_score(y_train, pipe_skopt.predict(X_train)),\n",
    "            \"cv_results_\": pipe_skopt.named_steps[\"estimate\"].cv_results_,\n",
    "            \"best_estimator_\": pipe_skopt.named_steps[\"estimate\"].best_estimator_,\n",
    "            \"optimizer_results_\": pipe_skopt.named_steps[\"estimate\"].optimizer_results_,\n",
    "        }\n",
    "        \n",
    "        print(f\"CV index [{cv_idx:3d}], Elapsed time: \", datetime.now() - start)\n",
    "        \n",
    "    return cv_results, y_fit"
   ]
  },
  {
   "cell_type": "code",
   "execution_count": 83,
   "metadata": {
    "scrolled": true
   },
   "outputs": [
    {
     "name": "stdout",
     "output_type": "stream",
     "text": [
      "CV index [  0], Elapsed time:  0:28:04.008619\n",
      "CV index [  1], Elapsed time:  0:20:04.981559\n",
      "CV index [  2], Elapsed time:  0:43:21.213462\n",
      "CV index [  3], Elapsed time:  0:19:44.367726\n",
      "CV index [  4], Elapsed time:  0:32:26.456149\n"
     ]
    }
   ],
   "source": [
    "results = {}\n",
    "results[target_col + \",gradient_boosting\"] = get_cv_results(\n",
    "    n_splits=5,\n",
    "    n_repeats=1,\n",
    "    power_transformer=False,\n",
    "    shuffle=False,\n",
    ")\n",
    "\n",
    "# with open(\"hbn_nles_regression.pkl\", \"rb\") as fp:\n",
    "#     results = pickle.load(fp)"
   ]
  },
  {
   "cell_type": "code",
   "execution_count": 87,
   "metadata": {},
   "outputs": [],
   "source": [
    "with open(\"hbn_nles_regression.pkl\", \"wb\") as fp:\n",
    "    pickle.dump(results, fp)"
   ]
  },
  {
   "cell_type": "code",
   "execution_count": 88,
   "metadata": {},
   "outputs": [
    {
     "data": {
      "text/plain": [
       "dict_keys(['NLES_SR,NLES_SR_TotalOccurance,gradient_boosting'])"
      ]
     },
     "execution_count": 88,
     "metadata": {},
     "output_type": "execute_result"
    }
   ],
   "source": [
    "results.keys()"
   ]
  },
  {
   "cell_type": "code",
   "execution_count": 89,
   "metadata": {},
   "outputs": [
    {
     "name": "stdout",
     "output_type": "stream",
     "text": [
      "NLES_SR,NLES_SR_TotalOccurance,gradient_boosting test MAE : 3.65742480205389\n",
      "NLES_SR,NLES_SR_TotalOccurance,gradient_boosting train MAE: 3.478568961204167\n",
      "NLES_SR,NLES_SR_TotalOccurance,gradient_boosting test R2  : -0.04589596938234468\n",
      "NLES_SR,NLES_SR_TotalOccurance,gradient_boosting train R2 : 0.11589351869441107\n"
     ]
    }
   ],
   "source": [
    "for key, res in results.items():\n",
    "    test_mae = [cvr[\"test_mae\"] for cvr in res[0].values()]\n",
    "    train_mae = [cvr[\"train_mae\"] for cvr in res[0].values()]\n",
    "    test_r2 = [cvr[\"test_r2\"] for cvr in res[0].values()]\n",
    "    train_r2 = [cvr[\"train_r2\"] for cvr in res[0].values()]\n",
    "    print(key, \"test MAE :\", np.mean(test_mae))\n",
    "    print(key, \"train MAE:\", np.mean(train_mae))\n",
    "    print(key, \"test R2  :\", np.mean(test_r2))\n",
    "    print(key, \"train R2 :\", np.mean(train_r2))"
   ]
  },
  {
   "cell_type": "code",
   "execution_count": 91,
   "metadata": {},
   "outputs": [],
   "source": [
    "pred_results = results[target_col + \",gradient_boosting\"][0]\n",
    "df_results = pd.concat([\n",
    "    pd.DataFrame.from_dict(\n",
    "        {\n",
    "            k: v for k, v in bag_res.items()\n",
    "            if k in [\"test_idx\", \"y_pred\", \"y_true\"]\n",
    "        }\n",
    "    ).set_index(keys=\"test_idx\", drop=True)\n",
    "    for bag_res in pred_results.values()\n",
    "]).sort_index()\n",
    "\n",
    "df_results[\"residual\"] = df_results[\"y_true\"] - df_results[\"y_pred\"]\n",
    "df_results[\"std_residual\"] = df_results[\"residual\"] / np.std(df_results[\"residual\"])"
   ]
  },
  {
   "cell_type": "code",
   "execution_count": 92,
   "metadata": {},
   "outputs": [
    {
     "data": {
      "image/png": "[encoded data removed]",
      "text/plain": [
       "<Figure size 1080x576 with 2 Axes>"
      ]
     },
     "metadata": {
      "needs_background": "light"
     },
     "output_type": "display_data"
    }
   ],
   "source": [
    "fig, ax = plt.subplots(1, 2, figsize=(15, 8))\n",
    "\n",
    "sns.scatterplot(x=\"y_pred\", y=\"y_true\", data=df_results, ax=ax[0], s=100, alpha=0.7)\n",
    "sns.scatterplot(x=\"y_pred\", y=\"std_residual\", data=df_results, ax=ax[1], s=100, alpha=0.7)\n",
    "\n",
    "_ = ax[0].set_ylabel(\"Actual NLES Upset Avg\", fontsize=18)\n",
    "_ = ax[1].set_ylabel(\"Standardized residual\", fontsize=18)\n",
    "\n",
    "for axis in ax:\n",
    "    _ = axis.set_xlabel(\"Predicted NLES Upset Avg\", fontsize=18)\n",
    "    _ = axis.tick_params(axis = 'both', which = 'major', labelsize = 16)\n",
    "    _ = axis.tick_params(axis = 'both', which = 'minor', labelsize = 12)\n",
    "\n",
    "xmin = 0\n",
    "xmax = 7\n",
    "_ = ax[0].autoscale(False)\n",
    "_ = ax[0].plot([xmin, xmax], [xmin, xmax], color=\"black\", ls=\"--\")\n",
    "_ = ax[0].set_xlim(xmin, xmax)\n",
    "_ = ax[0].set_ylim(xmin, xmax)\n",
    "\n",
    "# fig.savefig(\"cc_regression_results.pdf\", bbox_inches=\"tight\")"
   ]
  },
  {
   "cell_type": "code",
   "execution_count": null,
   "metadata": {},
   "outputs": [],
   "source": []
  },
  {
   "cell_type": "code",
   "execution_count": null,
   "metadata": {},
   "outputs": [],
   "source": []
  },
  {
   "cell_type": "code",
   "execution_count": null,
   "metadata": {},
   "outputs": [],
   "source": [
    "fig, ax = plt.subplots(1, 1)\n",
    "\n",
    "for ax, (key, df) in zip(axes[0], df_scatter.items()):\n",
    "    sns.scatterplot(x=\"y_true\", y=\"y_pred\", data=df, ax=ax, s=20, alpha=0.7)\n",
    "\n",
    "    _ = ax.set_xlabel(\"Actual age\", labelpad=-0.3)\n",
    "    _ = ax.autoscale(False)\n",
    "    _ = ax.plot([0, 200], [0, 200], color=\"black\", ls=\"--\", marker=\"\")\n",
    "    _ = ax.text(\n",
    "        0.98, 0.02,\n",
    "        \"\\n\".join([\n",
    "            r\"$R^2={0:4.2f}$\".format(r2_score(df[\"y_true\"], df[\"y_pred\"])),\n",
    "            r\"$MAE={0:4.2f}$\".format(median_absolute_error(df[\"y_true\"], df[\"y_pred\"]))\n",
    "        ]),\n",
    "        ha=\"right\", va=\"bottom\",\n",
    "        transform=ax.transAxes,\n",
    "        fontweight=\"bold\",\n",
    "    )\n",
    "    _ = ax.set_title(titles[key])\n",
    "    _ = ax.tick_params(axis='both', which='major')\n",
    "    _ = ax.tick_params(axis='both', which='minor')\n",
    "    \n",
    "_ = axes[0, 0].set_ylabel(\"Predicted age\")\n",
    "_ = axes[0, 1].set_ylabel(None)\n",
    "_ = axes[0, 2].set_ylabel(None)\n",
    "\n",
    "for ax in axes[1]:\n",
    "    _ = ax.axis(\"off\")\n",
    "\n",
    "for ax, alpha in zip(axes[0], \"ace\"):\n",
    "    ax.text(  # position text relative to Axes\n",
    "        0.0, 1.0, alpha,\n",
    "        ha=\"center\", va=\"center\",\n",
    "        transform=ax.transAxes,\n",
    "        fontweight=\"bold\",\n",
    "        bbox=dict(\n",
    "            facecolor=\"white\",\n",
    "            edgecolor=\"black\",\n",
    "            boxstyle=\"round,pad=0.25\"\n",
    "        )\n",
    "    )\n",
    "\n",
    "for ax, alpha in zip(axes[1], \"bdf\"):\n",
    "    ax.text(  # position text relative to Axes\n",
    "        0.0, 0.97, alpha,\n",
    "        ha=\"center\", va=\"center\",\n",
    "        transform=ax.transAxes,\n",
    "        fontweight=\"bold\",\n",
    "        bbox=dict(\n",
    "            facecolor=\"white\",\n",
    "            edgecolor=\"black\",\n",
    "            boxstyle=\"round,pad=0.25\"\n",
    "        )\n",
    "    )\n",
    "    \n",
    "fig.savefig(op.join(fig_dir, \"regression_scatter.pdf\"), bbox_inches=\"tight\")"
   ]
  },
  {
   "cell_type": "code",
   "execution_count": null,
   "metadata": {},
   "outputs": [],
   "source": []
  }
 ],
 "metadata": {
  "kernelspec": {
   "display_name": "Python 3",
   "language": "python",
   "name": "python3"
  },
  "language_info": {
   "codemirror_mode": {
    "name": "ipython",
    "version": 3
   },
   "file_extension": ".py",
   "mimetype": "text/x-python",
   "name": "python",
   "nbconvert_exporter": "python",
   "pygments_lexer": "ipython3",
   "version": "3.8.6"
  }
 },
 "nbformat": 4,
 "nbformat_minor": 4
}
