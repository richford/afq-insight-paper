{
 "cells": [
  {
   "cell_type": "markdown",
   "metadata": {},
   "source": [
    "# Classify ALS status using AFQ-Insight"
   ]
  },
  {
   "cell_type": "code",
   "execution_count": 25,
   "metadata": {},
   "outputs": [],
   "source": [
    "import afqinsight as afqi\n",
    "import itertools\n",
    "import matplotlib.pyplot as plt\n",
    "import numpy as np\n",
    "import os.path as op\n",
    "import palettable\n",
    "import pickle\n",
    "\n",
    "from matplotlib.colors import to_hex\n",
    "from mpl_toolkits.mplot3d import Axes3D\n",
    "\n",
    "from bokeh.io import output_notebook, reset_output\n",
    "from bokeh.embed import file_html\n",
    "from bokeh.layouts import row, column, widgetbox\n",
    "from bokeh.models import BoxSelectTool, HoverTool, Legend, Title, Range1d, CustomJS, ColorBar\n",
    "from bokeh.models.tickers import FixedTicker\n",
    "from bokeh.models.mappers import LinearColorMapper\n",
    "from bokeh.palettes import Spectral10, RdBu, Category10\n",
    "from bokeh.plotting import figure, show, ColumnDataSource\n",
    "from bokeh.resources import CDN\n",
    "from bokeh.transform import factor_cmap\n",
    "from bokeh.models import BoxAnnotation, Label\n",
    "\n",
    "from sklearn.decomposition import PCA\n",
    "\n",
    "%matplotlib notebook"
   ]
  },
  {
   "cell_type": "code",
   "execution_count": 2,
   "metadata": {},
   "outputs": [
    {
     "data": {
      "text/html": [
       "\n",
       "    <div class=\"bk-root\">\n",
       "        <a href=\"https://bokeh.pydata.org\" target=\"_blank\" class=\"bk-logo bk-logo-small bk-logo-notebook\"></a>\n",
       "        <span id=\"1001\">Loading BokehJS ...</span>\n",
       "    </div>"
      ]
     },
     "metadata": {},
     "output_type": "display_data"
    },
    {
     "data": {
      "application/javascript": [
       "\n",
       "(function(root) {\n",
       "  function now() {\n",
       "    return new Date();\n",
       "  }\n",
       "\n",
       "  var force = true;\n",
       "\n",
       "  if (typeof (root._bokeh_onload_callbacks) === \"undefined\" || force === true) {\n",
       "    root._bokeh_onload_callbacks = [];\n",
       "    root._bokeh_is_loading = undefined;\n",
       "  }\n",
       "\n",
       "  var JS_MIME_TYPE = 'application/javascript';\n",
       "  var HTML_MIME_TYPE = 'text/html';\n",
       "  var EXEC_MIME_TYPE = 'application/vnd.bokehjs_exec.v0+json';\n",
       "  var CLASS_NAME = 'output_bokeh rendered_html';\n",
       "\n",
       "  /**\n",
       "   * Render data to the DOM node\n",
       "   */\n",
       "  function render(props, node) {\n",
       "    var script = document.createElement(\"script\");\n",
       "    node.appendChild(script);\n",
       "  }\n",
       "\n",
       "  /**\n",
       "   * Handle when an output is cleared or removed\n",
       "   */\n",
       "  function handleClearOutput(event, handle) {\n",
       "    var cell = handle.cell;\n",
       "\n",
       "    var id = cell.output_area._bokeh_element_id;\n",
       "    var server_id = cell.output_area._bokeh_server_id;\n",
       "    // Clean up Bokeh references\n",
       "    if (id != null && id in Bokeh.index) {\n",
       "      Bokeh.index[id].model.document.clear();\n",
       "      delete Bokeh.index[id];\n",
       "    }\n",
       "\n",
       "    if (server_id !== undefined) {\n",
       "      // Clean up Bokeh references\n",
       "      var cmd = \"from bokeh.io.state import curstate; print(curstate().uuid_to_server['\" + server_id + \"'].get_sessions()[0].document.roots[0]._id)\";\n",
       "      cell.notebook.kernel.execute(cmd, {\n",
       "        iopub: {\n",
       "          output: function(msg) {\n",
       "            var id = msg.content.text.trim();\n",
       "            if (id in Bokeh.index) {\n",
       "              Bokeh.index[id].model.document.clear();\n",
       "              delete Bokeh.index[id];\n",
       "            }\n",
       "          }\n",
       "        }\n",
       "      });\n",
       "      // Destroy server and session\n",
       "      var cmd = \"import bokeh.io.notebook as ion; ion.destroy_server('\" + server_id + \"')\";\n",
       "      cell.notebook.kernel.execute(cmd);\n",
       "    }\n",
       "  }\n",
       "\n",
       "  /**\n",
       "   * Handle when a new output is added\n",
       "   */\n",
       "  function handleAddOutput(event, handle) {\n",
       "    var output_area = handle.output_area;\n",
       "    var output = handle.output;\n",
       "\n",
       "    // limit handleAddOutput to display_data with EXEC_MIME_TYPE content only\n",
       "    if ((output.output_type != \"display_data\") || (!output.data.hasOwnProperty(EXEC_MIME_TYPE))) {\n",
       "      return\n",
       "    }\n",
       "\n",
       "    var toinsert = output_area.element.find(\".\" + CLASS_NAME.split(' ')[0]);\n",
       "\n",
       "    if (output.metadata[EXEC_MIME_TYPE][\"id\"] !== undefined) {\n",
       "      toinsert[toinsert.length - 1].firstChild.textContent = output.data[JS_MIME_TYPE];\n",
       "      // store reference to embed id on output_area\n",
       "      output_area._bokeh_element_id = output.metadata[EXEC_MIME_TYPE][\"id\"];\n",
       "    }\n",
       "    if (output.metadata[EXEC_MIME_TYPE][\"server_id\"] !== undefined) {\n",
       "      var bk_div = document.createElement(\"div\");\n",
       "      bk_div.innerHTML = output.data[HTML_MIME_TYPE];\n",
       "      var script_attrs = bk_div.children[0].attributes;\n",
       "      for (var i = 0; i < script_attrs.length; i++) {\n",
       "        toinsert[toinsert.length - 1].firstChild.setAttribute(script_attrs[i].name, script_attrs[i].value);\n",
       "      }\n",
       "      // store reference to server id on output_area\n",
       "      output_area._bokeh_server_id = output.metadata[EXEC_MIME_TYPE][\"server_id\"];\n",
       "    }\n",
       "  }\n",
       "\n",
       "  function register_renderer(events, OutputArea) {\n",
       "\n",
       "    function append_mime(data, metadata, element) {\n",
       "      // create a DOM node to render to\n",
       "      var toinsert = this.create_output_subarea(\n",
       "        metadata,\n",
       "        CLASS_NAME,\n",
       "        EXEC_MIME_TYPE\n",
       "      );\n",
       "      this.keyboard_manager.register_events(toinsert);\n",
       "      // Render to node\n",
       "      var props = {data: data, metadata: metadata[EXEC_MIME_TYPE]};\n",
       "      render(props, toinsert[toinsert.length - 1]);\n",
       "      element.append(toinsert);\n",
       "      return toinsert\n",
       "    }\n",
       "\n",
       "    /* Handle when an output is cleared or removed */\n",
       "    events.on('clear_output.CodeCell', handleClearOutput);\n",
       "    events.on('delete.Cell', handleClearOutput);\n",
       "\n",
       "    /* Handle when a new output is added */\n",
       "    events.on('output_added.OutputArea', handleAddOutput);\n",
       "\n",
       "    /**\n",
       "     * Register the mime type and append_mime function with output_area\n",
       "     */\n",
       "    OutputArea.prototype.register_mime_type(EXEC_MIME_TYPE, append_mime, {\n",
       "      /* Is output safe? */\n",
       "      safe: true,\n",
       "      /* Index of renderer in `output_area.display_order` */\n",
       "      index: 0\n",
       "    });\n",
       "  }\n",
       "\n",
       "  // register the mime type if in Jupyter Notebook environment and previously unregistered\n",
       "  if (root.Jupyter !== undefined) {\n",
       "    var events = require('base/js/events');\n",
       "    var OutputArea = require('notebook/js/outputarea').OutputArea;\n",
       "\n",
       "    if (OutputArea.prototype.mime_types().indexOf(EXEC_MIME_TYPE) == -1) {\n",
       "      register_renderer(events, OutputArea);\n",
       "    }\n",
       "  }\n",
       "\n",
       "  \n",
       "  if (typeof (root._bokeh_timeout) === \"undefined\" || force === true) {\n",
       "    root._bokeh_timeout = Date.now() + 5000;\n",
       "    root._bokeh_failed_load = false;\n",
       "  }\n",
       "\n",
       "  var NB_LOAD_WARNING = {'data': {'text/html':\n",
       "     \"<div style='background-color: #fdd'>\\n\"+\n",
       "     \"<p>\\n\"+\n",
       "     \"BokehJS does not appear to have successfully loaded. If loading BokehJS from CDN, this \\n\"+\n",
       "     \"may be due to a slow or bad network connection. Possible fixes:\\n\"+\n",
       "     \"</p>\\n\"+\n",
       "     \"<ul>\\n\"+\n",
       "     \"<li>re-rerun `output_notebook()` to attempt to load from CDN again, or</li>\\n\"+\n",
       "     \"<li>use INLINE resources instead, as so:</li>\\n\"+\n",
       "     \"</ul>\\n\"+\n",
       "     \"<code>\\n\"+\n",
       "     \"from bokeh.resources import INLINE\\n\"+\n",
       "     \"output_notebook(resources=INLINE)\\n\"+\n",
       "     \"</code>\\n\"+\n",
       "     \"</div>\"}};\n",
       "\n",
       "  function display_loaded() {\n",
       "    var el = document.getElementById(\"1001\");\n",
       "    if (el != null) {\n",
       "      el.textContent = \"BokehJS is loading...\";\n",
       "    }\n",
       "    if (root.Bokeh !== undefined) {\n",
       "      if (el != null) {\n",
       "        el.textContent = \"BokehJS \" + root.Bokeh.version + \" successfully loaded.\";\n",
       "      }\n",
       "    } else if (Date.now() < root._bokeh_timeout) {\n",
       "      setTimeout(display_loaded, 100)\n",
       "    }\n",
       "  }\n",
       "\n",
       "\n",
       "  function run_callbacks() {\n",
       "    try {\n",
       "      root._bokeh_onload_callbacks.forEach(function(callback) { callback() });\n",
       "    }\n",
       "    finally {\n",
       "      delete root._bokeh_onload_callbacks\n",
       "    }\n",
       "    console.info(\"Bokeh: all callbacks have finished\");\n",
       "  }\n",
       "\n",
       "  function load_libs(js_urls, callback) {\n",
       "    root._bokeh_onload_callbacks.push(callback);\n",
       "    if (root._bokeh_is_loading > 0) {\n",
       "      console.log(\"Bokeh: BokehJS is being loaded, scheduling callback at\", now());\n",
       "      return null;\n",
       "    }\n",
       "    if (js_urls == null || js_urls.length === 0) {\n",
       "      run_callbacks();\n",
       "      return null;\n",
       "    }\n",
       "    console.log(\"Bokeh: BokehJS not loaded, scheduling load and callback at\", now());\n",
       "    root._bokeh_is_loading = js_urls.length;\n",
       "    for (var i = 0; i < js_urls.length; i++) {\n",
       "      var url = js_urls[i];\n",
       "      var s = document.createElement('script');\n",
       "      s.src = url;\n",
       "      s.async = false;\n",
       "      s.onreadystatechange = s.onload = function() {\n",
       "        root._bokeh_is_loading--;\n",
       "        if (root._bokeh_is_loading === 0) {\n",
       "          console.log(\"Bokeh: all BokehJS libraries loaded\");\n",
       "          run_callbacks()\n",
       "        }\n",
       "      };\n",
       "      s.onerror = function() {\n",
       "        console.warn(\"failed to load library \" + url);\n",
       "      };\n",
       "      console.log(\"Bokeh: injecting script tag for BokehJS library: \", url);\n",
       "      document.getElementsByTagName(\"head\")[0].appendChild(s);\n",
       "    }\n",
       "  };var element = document.getElementById(\"1001\");\n",
       "  if (element == null) {\n",
       "    console.log(\"Bokeh: ERROR: autoload.js configured with elementid '1001' but no matching script tag was found. \")\n",
       "    return false;\n",
       "  }\n",
       "\n",
       "  var js_urls = [\"https://cdn.pydata.org/bokeh/release/bokeh-1.0.0.min.js\", \"https://cdn.pydata.org/bokeh/release/bokeh-widgets-1.0.0.min.js\", \"https://cdn.pydata.org/bokeh/release/bokeh-tables-1.0.0.min.js\", \"https://cdn.pydata.org/bokeh/release/bokeh-gl-1.0.0.min.js\"];\n",
       "\n",
       "  var inline_js = [\n",
       "    function(Bokeh) {\n",
       "      Bokeh.set_log_level(\"info\");\n",
       "    },\n",
       "    \n",
       "    function(Bokeh) {\n",
       "      \n",
       "    },\n",
       "    function(Bokeh) {\n",
       "      console.log(\"Bokeh: injecting CSS: https://cdn.pydata.org/bokeh/release/bokeh-1.0.0.min.css\");\n",
       "      Bokeh.embed.inject_css(\"https://cdn.pydata.org/bokeh/release/bokeh-1.0.0.min.css\");\n",
       "      console.log(\"Bokeh: injecting CSS: https://cdn.pydata.org/bokeh/release/bokeh-widgets-1.0.0.min.css\");\n",
       "      Bokeh.embed.inject_css(\"https://cdn.pydata.org/bokeh/release/bokeh-widgets-1.0.0.min.css\");\n",
       "      console.log(\"Bokeh: injecting CSS: https://cdn.pydata.org/bokeh/release/bokeh-tables-1.0.0.min.css\");\n",
       "      Bokeh.embed.inject_css(\"https://cdn.pydata.org/bokeh/release/bokeh-tables-1.0.0.min.css\");\n",
       "    }\n",
       "  ];\n",
       "\n",
       "  function run_inline_js() {\n",
       "    \n",
       "    if ((root.Bokeh !== undefined) || (force === true)) {\n",
       "      for (var i = 0; i < inline_js.length; i++) {\n",
       "        inline_js[i].call(root, root.Bokeh);\n",
       "      }if (force === true) {\n",
       "        display_loaded();\n",
       "      }} else if (Date.now() < root._bokeh_timeout) {\n",
       "      setTimeout(run_inline_js, 100);\n",
       "    } else if (!root._bokeh_failed_load) {\n",
       "      console.log(\"Bokeh: BokehJS failed to load within specified timeout.\");\n",
       "      root._bokeh_failed_load = true;\n",
       "    } else if (force !== true) {\n",
       "      var cell = $(document.getElementById(\"1001\")).parents('.cell').data().cell;\n",
       "      cell.output_area.append_execute_result(NB_LOAD_WARNING)\n",
       "    }\n",
       "\n",
       "  }\n",
       "\n",
       "  if (root._bokeh_is_loading === 0) {\n",
       "    console.log(\"Bokeh: BokehJS loaded, going straight to plotting\");\n",
       "    run_inline_js();\n",
       "  } else {\n",
       "    load_libs(js_urls, function() {\n",
       "      console.log(\"Bokeh: BokehJS plotting callback run at\", now());\n",
       "      run_inline_js();\n",
       "    });\n",
       "  }\n",
       "}(window));"
      ],
      "application/vnd.bokehjs_load.v0+json": "\n(function(root) {\n  function now() {\n    return new Date();\n  }\n\n  var force = true;\n\n  if (typeof (root._bokeh_onload_callbacks) === \"undefined\" || force === true) {\n    root._bokeh_onload_callbacks = [];\n    root._bokeh_is_loading = undefined;\n  }\n\n  \n\n  \n  if (typeof (root._bokeh_timeout) === \"undefined\" || force === true) {\n    root._bokeh_timeout = Date.now() + 5000;\n    root._bokeh_failed_load = false;\n  }\n\n  var NB_LOAD_WARNING = {'data': {'text/html':\n     \"<div style='background-color: #fdd'>\\n\"+\n     \"<p>\\n\"+\n     \"BokehJS does not appear to have successfully loaded. If loading BokehJS from CDN, this \\n\"+\n     \"may be due to a slow or bad network connection. Possible fixes:\\n\"+\n     \"</p>\\n\"+\n     \"<ul>\\n\"+\n     \"<li>re-rerun `output_notebook()` to attempt to load from CDN again, or</li>\\n\"+\n     \"<li>use INLINE resources instead, as so:</li>\\n\"+\n     \"</ul>\\n\"+\n     \"<code>\\n\"+\n     \"from bokeh.resources import INLINE\\n\"+\n     \"output_notebook(resources=INLINE)\\n\"+\n     \"</code>\\n\"+\n     \"</div>\"}};\n\n  function display_loaded() {\n    var el = document.getElementById(\"1001\");\n    if (el != null) {\n      el.textContent = \"BokehJS is loading...\";\n    }\n    if (root.Bokeh !== undefined) {\n      if (el != null) {\n        el.textContent = \"BokehJS \" + root.Bokeh.version + \" successfully loaded.\";\n      }\n    } else if (Date.now() < root._bokeh_timeout) {\n      setTimeout(display_loaded, 100)\n    }\n  }\n\n\n  function run_callbacks() {\n    try {\n      root._bokeh_onload_callbacks.forEach(function(callback) { callback() });\n    }\n    finally {\n      delete root._bokeh_onload_callbacks\n    }\n    console.info(\"Bokeh: all callbacks have finished\");\n  }\n\n  function load_libs(js_urls, callback) {\n    root._bokeh_onload_callbacks.push(callback);\n    if (root._bokeh_is_loading > 0) {\n      console.log(\"Bokeh: BokehJS is being loaded, scheduling callback at\", now());\n      return null;\n    }\n    if (js_urls == null || js_urls.length === 0) {\n      run_callbacks();\n      return null;\n    }\n    console.log(\"Bokeh: BokehJS not loaded, scheduling load and callback at\", now());\n    root._bokeh_is_loading = js_urls.length;\n    for (var i = 0; i < js_urls.length; i++) {\n      var url = js_urls[i];\n      var s = document.createElement('script');\n      s.src = url;\n      s.async = false;\n      s.onreadystatechange = s.onload = function() {\n        root._bokeh_is_loading--;\n        if (root._bokeh_is_loading === 0) {\n          console.log(\"Bokeh: all BokehJS libraries loaded\");\n          run_callbacks()\n        }\n      };\n      s.onerror = function() {\n        console.warn(\"failed to load library \" + url);\n      };\n      console.log(\"Bokeh: injecting script tag for BokehJS library: \", url);\n      document.getElementsByTagName(\"head\")[0].appendChild(s);\n    }\n  };var element = document.getElementById(\"1001\");\n  if (element == null) {\n    console.log(\"Bokeh: ERROR: autoload.js configured with elementid '1001' but no matching script tag was found. \")\n    return false;\n  }\n\n  var js_urls = [\"https://cdn.pydata.org/bokeh/release/bokeh-1.0.0.min.js\", \"https://cdn.pydata.org/bokeh/release/bokeh-widgets-1.0.0.min.js\", \"https://cdn.pydata.org/bokeh/release/bokeh-tables-1.0.0.min.js\", \"https://cdn.pydata.org/bokeh/release/bokeh-gl-1.0.0.min.js\"];\n\n  var inline_js = [\n    function(Bokeh) {\n      Bokeh.set_log_level(\"info\");\n    },\n    \n    function(Bokeh) {\n      \n    },\n    function(Bokeh) {\n      console.log(\"Bokeh: injecting CSS: https://cdn.pydata.org/bokeh/release/bokeh-1.0.0.min.css\");\n      Bokeh.embed.inject_css(\"https://cdn.pydata.org/bokeh/release/bokeh-1.0.0.min.css\");\n      console.log(\"Bokeh: injecting CSS: https://cdn.pydata.org/bokeh/release/bokeh-widgets-1.0.0.min.css\");\n      Bokeh.embed.inject_css(\"https://cdn.pydata.org/bokeh/release/bokeh-widgets-1.0.0.min.css\");\n      console.log(\"Bokeh: injecting CSS: https://cdn.pydata.org/bokeh/release/bokeh-tables-1.0.0.min.css\");\n      Bokeh.embed.inject_css(\"https://cdn.pydata.org/bokeh/release/bokeh-tables-1.0.0.min.css\");\n    }\n  ];\n\n  function run_inline_js() {\n    \n    if ((root.Bokeh !== undefined) || (force === true)) {\n      for (var i = 0; i < inline_js.length; i++) {\n        inline_js[i].call(root, root.Bokeh);\n      }if (force === true) {\n        display_loaded();\n      }} else if (Date.now() < root._bokeh_timeout) {\n      setTimeout(run_inline_js, 100);\n    } else if (!root._bokeh_failed_load) {\n      console.log(\"Bokeh: BokehJS failed to load within specified timeout.\");\n      root._bokeh_failed_load = true;\n    } else if (force !== true) {\n      var cell = $(document.getElementById(\"1001\")).parents('.cell').data().cell;\n      cell.output_area.append_execute_result(NB_LOAD_WARNING)\n    }\n\n  }\n\n  if (root._bokeh_is_loading === 0) {\n    console.log(\"Bokeh: BokehJS loaded, going straight to plotting\");\n    run_inline_js();\n  } else {\n    load_libs(js_urls, function() {\n      console.log(\"Bokeh: BokehJS plotting callback run at\", now());\n      run_inline_js();\n    });\n  }\n}(window));"
     },
     "metadata": {},
     "output_type": "display_data"
    }
   ],
   "source": [
    "output_notebook()"
   ]
  },
  {
   "cell_type": "markdown",
   "metadata": {},
   "source": [
    "## Load the data"
   ]
  },
  {
   "cell_type": "code",
   "execution_count": 3,
   "metadata": {},
   "outputs": [
    {
     "name": "stderr",
     "output_type": "stream",
     "text": [
      "/Users/richford/miniconda3/envs/afq-insight/lib/python3.6/site-packages/pandas/core/indexing.py:630: SettingWithCopyWarning: \n",
      "A value is trying to be set on a copy of a slice from a DataFrame.\n",
      "Try using .loc[row_indexer,col_indexer] = value instead\n",
      "\n",
      "See the caveats in the documentation: http://pandas.pydata.org/pandas-docs/stable/indexing.html#indexing-view-versus-copy\n",
      "  self.obj[item_labels[indexer[info_axis]]] = value\n"
     ]
    }
   ],
   "source": [
    "afq_data = afqi.load_afq_data('../data/raw/als_data', target_cols=['class'], binary_positives={'class': 'ALS'})\n",
    "\n",
    "x, y, groups, columns, bias_index = (\n",
    "    afq_data.x,\n",
    "    afq_data.y['class'],\n",
    "    afq_data.groups,\n",
    "    afq_data.columns,\n",
    "    afq_data.bias_index\n",
    ")"
   ]
  },
  {
   "cell_type": "code",
   "execution_count": 4,
   "metadata": {},
   "outputs": [
    {
     "data": {
      "text/plain": [
       "subjectID\n",
       "subject_000    1\n",
       "subject_001    1\n",
       "subject_002    1\n",
       "subject_003    1\n",
       "subject_004    1\n",
       "subject_005    1\n",
       "subject_006    1\n",
       "subject_007    1\n",
       "subject_008    1\n",
       "subject_009    1\n",
       "subject_010    1\n",
       "subject_011    1\n",
       "subject_012    1\n",
       "subject_013    1\n",
       "subject_014    1\n",
       "subject_015    1\n",
       "subject_016    1\n",
       "subject_017    1\n",
       "subject_018    1\n",
       "subject_019    1\n",
       "subject_020    1\n",
       "subject_021    1\n",
       "subject_022    1\n",
       "subject_023    1\n",
       "subject_024    0\n",
       "subject_025    0\n",
       "subject_026    0\n",
       "subject_027    0\n",
       "subject_028    0\n",
       "subject_029    0\n",
       "subject_030    0\n",
       "subject_031    0\n",
       "subject_032    0\n",
       "subject_033    0\n",
       "subject_034    0\n",
       "subject_035    0\n",
       "subject_036    0\n",
       "subject_037    0\n",
       "subject_038    0\n",
       "subject_039    0\n",
       "subject_040    0\n",
       "subject_041    0\n",
       "subject_042    0\n",
       "subject_043    0\n",
       "subject_044    0\n",
       "subject_045    0\n",
       "subject_046    0\n",
       "subject_047    0\n",
       "Name: class, dtype: int64"
      ]
     },
     "execution_count": 4,
     "metadata": {},
     "output_type": "execute_result"
    }
   ],
   "source": [
    "y"
   ]
  },
  {
   "cell_type": "markdown",
   "metadata": {},
   "source": [
    "## Find the optimal feature coefficients $\\widehat{\\beta}$"
   ]
  },
  {
   "cell_type": "markdown",
   "metadata": {},
   "source": [
    "We search for the optimal coefficients using two different classification scores: accuracy and ROC AUC."
   ]
  },
  {
   "cell_type": "code",
   "execution_count": 5,
   "metadata": {},
   "outputs": [],
   "source": [
    "# for max_cv in range(1400, 2501, 100):\n",
    "#     hp_cv_res_acc = afqi.fit_hyperparams_cv(\n",
    "#         x, y, groups, bias_index=bias_index,\n",
    "#         max_evals_per_cv=max_cv,\n",
    "#         score='accuracy',\n",
    "#         trials_pickle_dir='./trials_classification/cv10_rs42_accuracy',\n",
    "#         verbose=1, random_state=42, clf_threshold=0.5\n",
    "#     )"
   ]
  },
  {
   "cell_type": "code",
   "execution_count": 6,
   "metadata": {},
   "outputs": [
    {
     "data": {
      "application/vnd.jupyter.widget-view+json": {
       "model_id": "27f057833a0e458ab4143046267b4934",
       "version_major": 2,
       "version_minor": 0
      },
      "text/plain": [
       "HBox(children=(IntProgress(value=0, max=10), HTML(value='')))"
      ]
     },
     "metadata": {},
     "output_type": "display_data"
    },
    {
     "name": "stdout",
     "output_type": "stream",
     "text": [
      "\n"
     ]
    }
   ],
   "source": [
    "hp_cv_res_acc = afqi.fit_hyperparams_cv(\n",
    "    x, y, groups, bias_index=bias_index,\n",
    "    max_evals_per_cv=1300,\n",
    "    score='accuracy',\n",
    "    trials_pickle_dir='./trials_classification/cv10_rs42_accuracy',\n",
    "    verbose=1, random_state=42, clf_threshold=0.5\n",
    ")"
   ]
  },
  {
   "cell_type": "code",
   "execution_count": 7,
   "metadata": {},
   "outputs": [],
   "source": [
    "# hp_cv_res_auc = afqi.fit_hyperparams_cv(\n",
    "#     x, y, groups, bias_index=bias_index,\n",
    "#     max_evals_per_cv=500,\n",
    "#     score='roc_auc',\n",
    "#     trials_pickle_dir='./trials_classification/cv10_rs42_rocauc',\n",
    "#     verbose=1, random_state=42, clf_threshold=0.5\n",
    "# )"
   ]
  },
  {
   "cell_type": "code",
   "execution_count": 8,
   "metadata": {},
   "outputs": [],
   "source": [
    "def print_results_summary(hp_cv_results):\n",
    "    template = '{stat:15s} {mean:7.5g} ({var:7.5g})'\n",
    "    test = [r.test for r in hp_cv_results]\n",
    "    train = [r.train for r in hp_cv_results]\n",
    "    test_acc = [t.accuracy for t in test]\n",
    "    test_auc = [t.auc for t in test]\n",
    "    test_aps = [t.avg_precision for t in test]\n",
    "    train_acc = [t.accuracy for t in train]\n",
    "    train_auc = [t.auc for t in train]\n",
    "    train_aps = [t.avg_precision for t in train]\n",
    "\n",
    "    print('Statistic         mean   (variance)')\n",
    "    print('--------------  ------- ------------')\n",
    "    print(template.format(stat='test accuracy', mean=np.mean(test_acc), var=np.var(test_acc)))\n",
    "    print(template.format(stat='test AUC', mean=np.mean(test_auc), var=np.var(test_auc)))\n",
    "    print(template.format(stat='test avg prec', mean=np.mean(test_aps), var=np.var(test_aps)))\n",
    "    print(template.format(stat='train accuracy', mean=np.mean(train_acc), var=np.var(train_acc)))\n",
    "    print(template.format(stat='train AUC', mean=np.mean(train_auc), var=np.var(train_auc)))\n",
    "    print(template.format(stat='train avg prec', mean=np.mean(train_aps), var=np.var(train_aps)))"
   ]
  },
  {
   "cell_type": "code",
   "execution_count": 9,
   "metadata": {},
   "outputs": [
    {
     "name": "stdout",
     "output_type": "stream",
     "text": [
      "Statistic         mean   (variance)\n",
      "--------------  ------- ------------\n",
      "test accuracy   0.85833 (0.022292)\n",
      "test AUC        0.92222 (0.012469)\n",
      "test avg prec   0.93944 (0.0074781)\n",
      "train accuracy  0.93745 (0.0016868)\n",
      "train AUC       0.97804 (0.00056011)\n",
      "train avg prec  0.98137 (0.00037967)\n"
     ]
    }
   ],
   "source": [
    "print_results_summary(hp_cv_res_acc)"
   ]
  },
  {
   "cell_type": "code",
   "execution_count": 10,
   "metadata": {},
   "outputs": [],
   "source": [
    "# print_results_summary(hp_cv_res_auc)"
   ]
  },
  {
   "cell_type": "code",
   "execution_count": 11,
   "metadata": {},
   "outputs": [],
   "source": [
    "import pandas as pd"
   ]
  },
  {
   "cell_type": "code",
   "execution_count": 12,
   "metadata": {},
   "outputs": [],
   "source": [
    "test_set_y_hat = pd.concat([\n",
    "    pd.Series(data=afqi.insight._sigmoid(cv.test.x.dot(cv.beta_hat)),\n",
    "              index=cv.test.y.index,\n",
    "              name='yhat')\n",
    "    for cv in hp_cv_res_acc\n",
    "])"
   ]
  },
  {
   "cell_type": "code",
   "execution_count": 13,
   "metadata": {},
   "outputs": [],
   "source": [
    "y_y_hat = pd.concat([y, test_set_y_hat], axis='columns', sort=True)\n",
    "y_y_hat['index'] = np.arange(len(y), dtype=np.int32)\n",
    "y_y_hat.sort_values(['class', 'yhat'], inplace=True)\n",
    "y_y_hat['sorted_index'] = np.arange(len(y_y_hat))"
   ]
  },
  {
   "cell_type": "code",
   "execution_count": 14,
   "metadata": {},
   "outputs": [],
   "source": [
    "import beeswarm as bs"
   ]
  },
  {
   "cell_type": "code",
   "execution_count": 15,
   "metadata": {},
   "outputs": [],
   "source": [
    "list_of_preds = [y_y_hat.loc[y_y_hat['class'] == 0, 'yhat'].values, y_y_hat.loc[y_y_hat['class'] == 1, 'yhat'].values]"
   ]
  },
  {
   "cell_type": "code",
   "execution_count": 16,
   "metadata": {},
   "outputs": [
    {
     "data": {
      "image/png": "[encoded data removed]",
      "text/plain": [
       "<Figure size 432x288 with 1 Axes>"
      ]
     },
     "metadata": {
      "needs_background": "light"
     },
     "output_type": "display_data"
    }
   ],
   "source": [
    "df_bs, ax = bs.beeswarm(list_of_preds, s=23, method='swarm', positions=[0, 0.05], labels=['Control', 'ALS'], col=['blue', 'red'])"
   ]
  },
  {
   "cell_type": "code",
   "execution_count": 17,
   "metadata": {},
   "outputs": [],
   "source": [
    "df_bs.rename(columns=lambda x: 'yhat' if x == 'yorig' else x, inplace=True)\n",
    "df_bs.columns\n",
    "df_bs.sort_values(['xorig', 'yhat'], inplace=True)\n",
    "df_bs['sorted_index'] = np.arange(len(df_bs))"
   ]
  },
  {
   "cell_type": "code",
   "execution_count": 18,
   "metadata": {},
   "outputs": [
    {
     "data": {
      "text/html": [
       "<div>\n",
       "<style scoped>\n",
       "    .dataframe tbody tr th:only-of-type {\n",
       "        vertical-align: middle;\n",
       "    }\n",
       "\n",
       "    .dataframe tbody tr th {\n",
       "        vertical-align: top;\n",
       "    }\n",
       "\n",
       "    .dataframe thead th {\n",
       "        text-align: right;\n",
       "    }\n",
       "</style>\n",
       "<table border=\"1\" class=\"dataframe\">\n",
       "  <thead>\n",
       "    <tr style=\"text-align: right;\">\n",
       "      <th></th>\n",
       "      <th>class</th>\n",
       "      <th>yhat</th>\n",
       "      <th>index</th>\n",
       "      <th>xnew</th>\n",
       "      <th>ynew</th>\n",
       "      <th>color</th>\n",
       "      <th>predicted_class_text</th>\n",
       "    </tr>\n",
       "  </thead>\n",
       "  <tbody>\n",
       "    <tr>\n",
       "      <th>subject_034</th>\n",
       "      <td>0</td>\n",
       "      <td>0.179492</td>\n",
       "      <td>34</td>\n",
       "      <td>0.000000</td>\n",
       "      <td>0.179492</td>\n",
       "      <td>blue</td>\n",
       "      <td>Predicted Control</td>\n",
       "    </tr>\n",
       "    <tr>\n",
       "      <th>subject_024</th>\n",
       "      <td>0</td>\n",
       "      <td>0.202341</td>\n",
       "      <td>24</td>\n",
       "      <td>0.001159</td>\n",
       "      <td>0.202341</td>\n",
       "      <td>blue</td>\n",
       "      <td>Predicted Control</td>\n",
       "    </tr>\n",
       "    <tr>\n",
       "      <th>subject_029</th>\n",
       "      <td>0</td>\n",
       "      <td>0.232608</td>\n",
       "      <td>29</td>\n",
       "      <td>0.000000</td>\n",
       "      <td>0.232608</td>\n",
       "      <td>blue</td>\n",
       "      <td>Predicted Control</td>\n",
       "    </tr>\n",
       "    <tr>\n",
       "      <th>subject_043</th>\n",
       "      <td>0</td>\n",
       "      <td>0.258823</td>\n",
       "      <td>43</td>\n",
       "      <td>0.000000</td>\n",
       "      <td>0.258823</td>\n",
       "      <td>blue</td>\n",
       "      <td>Predicted Control</td>\n",
       "    </tr>\n",
       "    <tr>\n",
       "      <th>subject_040</th>\n",
       "      <td>0</td>\n",
       "      <td>0.284108</td>\n",
       "      <td>40</td>\n",
       "      <td>0.000000</td>\n",
       "      <td>0.284108</td>\n",
       "      <td>blue</td>\n",
       "      <td>Predicted Control</td>\n",
       "    </tr>\n",
       "  </tbody>\n",
       "</table>\n",
       "</div>"
      ],
      "text/plain": [
       "             class      yhat  index      xnew      ynew color  \\\n",
       "subject_034      0  0.179492     34  0.000000  0.179492  blue   \n",
       "subject_024      0  0.202341     24  0.001159  0.202341  blue   \n",
       "subject_029      0  0.232608     29  0.000000  0.232608  blue   \n",
       "subject_043      0  0.258823     43  0.000000  0.258823  blue   \n",
       "subject_040      0  0.284108     40  0.000000  0.284108  blue   \n",
       "\n",
       "            predicted_class_text  \n",
       "subject_034    Predicted Control  \n",
       "subject_024    Predicted Control  \n",
       "subject_029    Predicted Control  \n",
       "subject_043    Predicted Control  \n",
       "subject_040    Predicted Control  "
      ]
     },
     "execution_count": 18,
     "metadata": {},
     "output_type": "execute_result"
    }
   ],
   "source": [
    "df_yhat = y_y_hat.join(df_bs, on='sorted_index', rsuffix='_bs')\n",
    "df_yhat.drop(['sorted_index', 'sorted_index_bs', 'xorig', 'yhat_bs'], axis='columns', inplace=True)\n",
    "df_yhat['predicted_class_text'] = df_yhat['yhat'].map(lambda x: 'Predicted ALS' if x > 0.5 else 'Predicted Control')\n",
    "df_yhat.loc[df_yhat['yhat'] <= 0.5, 'color'] = 'blue'\n",
    "df_yhat.loc[df_yhat['yhat'] > 0.5, 'color'] = 'red'\n",
    "df_yhat.head()"
   ]
  },
  {
   "cell_type": "code",
   "execution_count": 19,
   "metadata": {},
   "outputs": [
    {
     "data": {
      "text/html": [
       "\n",
       "\n",
       "\n",
       "\n",
       "\n",
       "\n",
       "  <div class=\"bk-root\" id=\"d79c85c3-58ff-4650-9b5a-27ca2616cb30\"></div>\n"
      ]
     },
     "metadata": {},
     "output_type": "display_data"
    },
    {
     "data": {
      "application/javascript": [
       "(function(root) {\n",
       "  function embed_document(root) {\n",
       "    \n",
       "  var docs_json = {\"f71238ac-1f00-49ec-9f89-eb8b00e43242\":{\"roots\":{\"references\":[{\"attributes\":{\"below\":[{\"id\":\"1011\",\"type\":\"LinearAxis\"}],\"left\":[{\"id\":\"1016\",\"type\":\"LinearAxis\"}],\"plot_height\":400,\"plot_width\":500,\"renderers\":[{\"id\":\"1011\",\"type\":\"LinearAxis\"},{\"id\":\"1015\",\"type\":\"Grid\"},{\"id\":\"1016\",\"type\":\"LinearAxis\"},{\"id\":\"1020\",\"type\":\"Grid\"},{\"id\":\"1036\",\"type\":\"Legend\"},{\"id\":\"1028\",\"type\":\"GlyphRenderer\"}],\"title\":{\"id\":\"1022\",\"type\":\"Title\"},\"toolbar\":{\"id\":\"1021\",\"type\":\"Toolbar\"},\"toolbar_location\":\"above\",\"x_range\":{\"id\":\"1003\",\"type\":\"DataRange1d\"},\"x_scale\":{\"id\":\"1007\",\"type\":\"LinearScale\"},\"y_range\":{\"id\":\"1023\",\"type\":\"Range1d\"},\"y_scale\":{\"id\":\"1009\",\"type\":\"LinearScale\"}},\"id\":\"1002\",\"subtype\":\"Figure\",\"type\":\"Plot\"},{\"attributes\":{},\"id\":\"1048\",\"type\":\"Selection\"},{\"attributes\":{\"items\":[{\"id\":\"1037\",\"type\":\"LegendItem\"}],\"location\":\"bottom_right\",\"plot\":{\"id\":\"1002\",\"subtype\":\"Figure\",\"type\":\"Plot\"}},\"id\":\"1036\",\"type\":\"Legend\"},{\"attributes\":{\"label\":{\"field\":\"predicted_class_text\"},\"renderers\":[{\"id\":\"1028\",\"type\":\"GlyphRenderer\"}]},\"id\":\"1037\",\"type\":\"LegendItem\"},{\"attributes\":{},\"id\":\"1012\",\"type\":\"BasicTicker\"},{\"attributes\":{\"dimension\":1,\"plot\":{\"id\":\"1002\",\"subtype\":\"Figure\",\"type\":\"Plot\"},\"ticker\":{\"id\":\"1017\",\"type\":\"BasicTicker\"}},\"id\":\"1020\",\"type\":\"Grid\"},{\"attributes\":{\"axis_label\":\"Class\",\"axis_label_text_font_size\":{\"value\":\"16pt\"},\"formatter\":{\"id\":\"1033\",\"type\":\"BasicTickFormatter\"},\"major_label_overrides\":{\"0\":\"Control\",\"0.05\":\"ALS\"},\"minor_tick_line_color\":{\"value\":null},\"plot\":{\"id\":\"1002\",\"subtype\":\"Figure\",\"type\":\"Plot\"},\"ticker\":{\"id\":\"1040\",\"type\":\"FixedTicker\"}},\"id\":\"1011\",\"type\":\"LinearAxis\"},{\"attributes\":{},\"id\":\"1035\",\"type\":\"BasicTickFormatter\"},{\"attributes\":{},\"id\":\"1033\",\"type\":\"BasicTickFormatter\"},{\"attributes\":{\"fill_color\":{\"field\":\"color\"},\"line_color\":{\"field\":\"color\"},\"size\":{\"units\":\"screen\",\"value\":20},\"x\":{\"field\":\"xnew\"},\"y\":{\"field\":\"ynew\"}},\"id\":\"1026\",\"type\":\"Circle\"},{\"attributes\":{},\"id\":\"1009\",\"type\":\"LinearScale\"},{\"attributes\":{\"fill_alpha\":{\"value\":0.1},\"fill_color\":{\"value\":\"#1f77b4\"},\"line_alpha\":{\"value\":0.1},\"line_color\":{\"value\":\"#1f77b4\"},\"size\":{\"units\":\"screen\",\"value\":20},\"x\":{\"field\":\"xnew\"},\"y\":{\"field\":\"ynew\"}},\"id\":\"1027\",\"type\":\"Circle\"},{\"attributes\":{},\"id\":\"1007\",\"type\":\"LinearScale\"},{\"attributes\":{\"plot\":{\"id\":\"1002\",\"subtype\":\"Figure\",\"type\":\"Plot\"},\"ticker\":{\"id\":\"1012\",\"type\":\"BasicTicker\"}},\"id\":\"1015\",\"type\":\"Grid\"},{\"attributes\":{\"callback\":null,\"data\":{\"class\":[0,0,0,0,0,0,0,0,0,0,0,0,0,0,0,0,0,0,0,0,0,0,0,0,1,1,1,1,1,1,1,1,1,1,1,1,1,1,1,1,1,1,1,1,1,1,1,1],\"color\":[\"blue\",\"blue\",\"blue\",\"blue\",\"blue\",\"blue\",\"blue\",\"blue\",\"blue\",\"blue\",\"blue\",\"blue\",\"blue\",\"blue\",\"blue\",\"blue\",\"blue\",\"blue\",\"blue\",\"blue\",\"blue\",\"red\",\"red\",\"red\",\"blue\",\"blue\",\"blue\",\"blue\",\"blue\",\"red\",\"red\",\"red\",\"red\",\"red\",\"red\",\"red\",\"red\",\"red\",\"red\",\"red\",\"red\",\"red\",\"red\",\"red\",\"red\",\"red\",\"red\",\"red\"],\"index\":{\"__ndarray__\":\"IgAAABgAAAAdAAAAKwAAACgAAAAnAAAAKQAAACwAAAAbAAAAHwAAACoAAAAaAAAAJgAAABkAAAAeAAAALwAAACEAAAAtAAAALgAAABwAAAAlAAAAIwAAACQAAAAgAAAABQAAABAAAAATAAAABAAAAAcAAAAIAAAAAgAAAA0AAAADAAAADAAAABQAAAAOAAAACwAAAA8AAAABAAAAFgAAABUAAAASAAAACgAAABcAAAAAAAAAEQAAAAkAAAAGAAAA\",\"dtype\":\"int32\",\"shape\":[48]},\"level_0\":[\"subject_034\",\"subject_024\",\"subject_029\",\"subject_043\",\"subject_040\",\"subject_039\",\"subject_041\",\"subject_044\",\"subject_027\",\"subject_031\",\"subject_042\",\"subject_026\",\"subject_038\",\"subject_025\",\"subject_030\",\"subject_047\",\"subject_033\",\"subject_045\",\"subject_046\",\"subject_028\",\"subject_037\",\"subject_035\",\"subject_036\",\"subject_032\",\"subject_005\",\"subject_016\",\"subject_019\",\"subject_004\",\"subject_007\",\"subject_008\",\"subject_002\",\"subject_013\",\"subject_003\",\"subject_012\",\"subject_020\",\"subject_014\",\"subject_011\",\"subject_015\",\"subject_001\",\"subject_022\",\"subject_021\",\"subject_018\",\"subject_010\",\"subject_023\",\"subject_000\",\"subject_017\",\"subject_009\",\"subject_006\"],\"predicted_class_text\":[\"Predicted Control\",\"Predicted Control\",\"Predicted Control\",\"Predicted Control\",\"Predicted Control\",\"Predicted Control\",\"Predicted Control\",\"Predicted Control\",\"Predicted Control\",\"Predicted Control\",\"Predicted Control\",\"Predicted Control\",\"Predicted Control\",\"Predicted Control\",\"Predicted Control\",\"Predicted Control\",\"Predicted Control\",\"Predicted Control\",\"Predicted Control\",\"Predicted Control\",\"Predicted Control\",\"Predicted ALS\",\"Predicted ALS\",\"Predicted ALS\",\"Predicted Control\",\"Predicted Control\",\"Predicted Control\",\"Predicted Control\",\"Predicted Control\",\"Predicted ALS\",\"Predicted ALS\",\"Predicted ALS\",\"Predicted ALS\",\"Predicted ALS\",\"Predicted ALS\",\"Predicted ALS\",\"Predicted ALS\",\"Predicted ALS\",\"Predicted ALS\",\"Predicted ALS\",\"Predicted ALS\",\"Predicted ALS\",\"Predicted ALS\",\"Predicted ALS\",\"Predicted ALS\",\"Predicted ALS\",\"Predicted ALS\",\"Predicted ALS\"],\"xnew\":{\"__ndarray__\":\"AAAAAAAAAAC/4x1UNPxSPwAAAAAAAAAAAAAAAAAAAAAAAAAAAAAAAOfLUZoZrmg/1ttxUCpMXL+j19WuitN2vwqKK71C5nc/G+9rn+vehL8AAAAAAAAAAMBAo2jG13E/FK62feyLZr8AAAAAAAAAAOkVetxE+28/IKKVED6JJb8UCACwq2VrPy0VYPl0f0q/j7ggycr/Yz8thz/REZZsvzhW2HFIJnw/Kxnz7wwPFL8AAAAAAAAAAAAAAAAAAAAAmpmZmZmZqT+lkyP9Pe2rP5qZmZmZmak/t2T4jKhQqz8PeDF+xSeoP5V9UTM+ZqY/Sw6UvkTDqT+yHgYjgZGsP5qZmZmZmak/mpmZmZmZqT8OieJtwjGrP5qZmZmZmak/M5rsUCo/qz/+J5Z4dm+pP2YWDo/ER6s/mpmZmZmZqT9EM/L9aOirP57YgCTdYqc/mpmZmZmZqT+R9zgsZH+rP7WnF143K6k/mpmZmZmZqT+amZmZmZmpP5qZmZmZmak/\",\"dtype\":\"float64\",\"shape\":[48]},\"yhat\":{\"__ndarray__\":\"wRM0Qpb5xj9yiNBnUebJP9vI7LEWxs0/1CJK3o6Q0D9aapXH1C7SP1Ba5jODVdM/SFP/5saV0z8iq3EQnm/UPzf/M/TsiNQ/caDjMZCg1D9T5dENhHTYP7nGfVXe/Ng/5gposEOs2T+lhob40CLbP8/AD/Fi9ds/8rrctEux3D/m2hLGV6/dPzdP2RYCXt4/VF2c2sNy3z9RrNEhBJrfPzftmPFM6d8/1Xcvj/Fb4D/Usej9V2vhP0uz1AcDFuQ/UMy9zfGI2j937NfZ3tzaPx4VfmFwQ94/SmftSt5P3z+Je8kg43bfP1+K+pwiPuA/yVH5eCZK4D+I+NOVU0zgP/FSSSLfEOE/ZPLt0b1J4j/w3DINaNniP8DRnPeAguQ/TTmzPTsO5T/c3NNo24vlPyHCx8Q5BuY/Eu04UeE/5z8DKClVNnDnP2VcUp6Dh+c/dU8KXOEV6D95fdI01YroPwR++f300+g/MCoXxkoS6j9Y5EHMcGrrP04x7w0ko+4/\",\"dtype\":\"float64\",\"shape\":[48]},\"ynew\":{\"__ndarray__\":\"wRM0Qpb5xj9yiNBnUebJP9vI7LEWxs0/1CJK3o6Q0D9aapXH1C7SP1Ba5jODVdM/SFP/5saV0z8iq3EQnm/UPzf/M/TsiNQ/caDjMZCg1D9T5dENhHTYP7nGfVXe/Ng/5gposEOs2T+lhob40CLbP8/AD/Fi9ds/8rrctEux3D/m2hLGV6/dPzdP2RYCXt4/VF2c2sNy3z9RrNEhBJrfPzftmPFM6d8/1Xcvj/Fb4D/Usej9V2vhP0uz1AcDFuQ/UMy9zfGI2j937NfZ3tzaPx4VfmFwQ94/SmftSt5P3z+Je8kg43bfP1+K+pwiPuA/yVH5eCZK4D+I+NOVU0zgP/FSSSLfEOE/ZPLt0b1J4j/w3DINaNniP8DRnPeAguQ/TTmzPTsO5T/c3NNo24vlPyHCx8Q5BuY/Eu04UeE/5z8DKClVNnDnP2VcUp6Dh+c/dU8KXOEV6D95fdI01YroPwR++f300+g/MCoXxkoS6j9Y5EHMcGrrP04x7w0ko+4/\",\"dtype\":\"float64\",\"shape\":[48]}},\"selected\":{\"id\":\"1048\",\"type\":\"Selection\"},\"selection_policy\":{\"id\":\"1049\",\"type\":\"UnionRenderers\"}},\"id\":\"1024\",\"type\":\"ColumnDataSource\"},{\"attributes\":{\"callback\":null},\"id\":\"1003\",\"type\":\"DataRange1d\"},{\"attributes\":{\"data_source\":{\"id\":\"1024\",\"type\":\"ColumnDataSource\"},\"glyph\":{\"id\":\"1026\",\"type\":\"Circle\"},\"hover_glyph\":null,\"muted_glyph\":null,\"nonselection_glyph\":{\"id\":\"1027\",\"type\":\"Circle\"},\"selection_glyph\":null,\"view\":{\"id\":\"1029\",\"type\":\"CDSView\"}},\"id\":\"1028\",\"type\":\"GlyphRenderer\"},{\"attributes\":{\"plot\":null,\"text\":\"Test split classification probabilities\",\"text_font_size\":{\"value\":\"16pt\"}},\"id\":\"1022\",\"type\":\"Title\"},{\"attributes\":{\"callback\":null},\"id\":\"1023\",\"type\":\"Range1d\"},{\"attributes\":{\"source\":{\"id\":\"1024\",\"type\":\"ColumnDataSource\"}},\"id\":\"1029\",\"type\":\"CDSView\"},{\"attributes\":{\"axis_label\":\"Classification Probability\",\"axis_label_text_font_size\":{\"value\":\"16pt\"},\"formatter\":{\"id\":\"1035\",\"type\":\"BasicTickFormatter\"},\"plot\":{\"id\":\"1002\",\"subtype\":\"Figure\",\"type\":\"Plot\"},\"ticker\":{\"id\":\"1017\",\"type\":\"BasicTicker\"}},\"id\":\"1016\",\"type\":\"LinearAxis\"},{\"attributes\":{},\"id\":\"1049\",\"type\":\"UnionRenderers\"},{\"attributes\":{},\"id\":\"1017\",\"type\":\"BasicTicker\"},{\"attributes\":{\"ticks\":[0,0.05]},\"id\":\"1040\",\"type\":\"FixedTicker\"},{\"attributes\":{\"callback\":null,\"renderers\":[{\"id\":\"1028\",\"type\":\"GlyphRenderer\"}],\"tooltips\":[[\"Subject\",\"@index\"],[\"P(ALS)\",\"@yhat\"]]},\"id\":\"1038\",\"type\":\"HoverTool\"},{\"attributes\":{\"active_drag\":\"auto\",\"active_inspect\":\"auto\",\"active_multi\":null,\"active_scroll\":\"auto\",\"active_tap\":\"auto\",\"tools\":[{\"id\":\"1038\",\"type\":\"HoverTool\"}]},\"id\":\"1021\",\"type\":\"Toolbar\"}],\"root_ids\":[\"1002\"]},\"title\":\"Bokeh Application\",\"version\":\"1.0.0\"}};\n",
       "  var render_items = [{\"docid\":\"f71238ac-1f00-49ec-9f89-eb8b00e43242\",\"roots\":{\"1002\":\"d79c85c3-58ff-4650-9b5a-27ca2616cb30\"}}];\n",
       "  root.Bokeh.embed.embed_items_notebook(docs_json, render_items);\n",
       "\n",
       "  }\n",
       "  if (root.Bokeh !== undefined) {\n",
       "    embed_document(root);\n",
       "  } else {\n",
       "    var attempts = 0;\n",
       "    var timer = setInterval(function(root) {\n",
       "      if (root.Bokeh !== undefined) {\n",
       "        embed_document(root);\n",
       "        clearInterval(timer);\n",
       "      }\n",
       "      attempts++;\n",
       "      if (attempts > 100) {\n",
       "        console.log(\"Bokeh: ERROR: Unable to run BokehJS code because BokehJS library is missing\");\n",
       "        clearInterval(timer);\n",
       "      }\n",
       "    }, 10, root)\n",
       "  }\n",
       "})(window);"
      ],
      "application/vnd.bokehjs_exec.v0+json": ""
     },
     "metadata": {
      "application/vnd.bokehjs_exec.v0+json": {
       "id": "1002"
      }
     },
     "output_type": "display_data"
    }
   ],
   "source": [
    "width=500\n",
    "height=400\n",
    "p = figure(plot_width=width, plot_height=height, toolbar_location='above',\n",
    "           tools=\"\")\n",
    "p.title.text = 'Test split classification probabilities'\n",
    "\n",
    "p.y_range = Range1d(0, 1)\n",
    "\n",
    "source = ColumnDataSource(data=df_yhat)\n",
    "\n",
    "c0 = p.circle(source=source, x='xnew', y='ynew',\n",
    "              size=20, legend='predicted_class_text', color='color')\n",
    "\n",
    "hover = HoverTool(\n",
    "    tooltips=[(\"Subject\", \"@index\"),\n",
    "              (\"P(ALS)\", \"@yhat\")],\n",
    "    renderers=[c0]\n",
    ")\n",
    "hover.point_policy = 'snap_to_data'\n",
    "hover.line_policy = 'nearest'\n",
    "\n",
    "p.add_tools(hover)\n",
    "p.legend.location = 'bottom_right'\n",
    "\n",
    "p.xaxis.axis_label = \"Class\"\n",
    "p.xaxis.ticker = FixedTicker(ticks=[0, 0.05])\n",
    "p.xaxis.major_label_overrides = {0: 'Control', 0.05: 'ALS'}\n",
    "p.xaxis.minor_tick_line_color = None  # turn off x-axis minor ticks\n",
    "#p.xaxis.major_label_text_font_size = '0pt'  # turn off x-axis tick labels\n",
    "p.yaxis.axis_label = \"Classification Probability\"\n",
    "p.title.text_font_size = \"16pt\"\n",
    "p.xaxis.axis_label_text_font_size = \"16pt\"\n",
    "p.yaxis.axis_label_text_font_size = \"16pt\"\n",
    "\n",
    "output_html = \"../docs/img/bokeh_plots/classification_probs_acc_small.html\"\n",
    "# if output_html is not None:\n",
    "#     html = file_html(p, CDN, \"my plot\")\n",
    "#     with open(op.abspath(output_html), 'w') as fp:\n",
    "#         fp.write(html)\n",
    "show(p)"
   ]
  },
  {
   "cell_type": "markdown",
   "metadata": {},
   "source": [
    "Using the hover tool on the chart above, we can see that subjects 05, 16, 19, 32, 35, 36 are all hard to classify (i.e. they are closer to the classification threshold of 0.5). We should fire up the AFQ browser and look at how these subjects compare to the rest of the subjects in their group.\n",
    "\n",
    "Here are links to a running instance of AFQ-Browser with the hard to classify subjects:\n",
    "- [False negatives](https://yeatmanlab.github.io/Sarica_2017/?table[prevSort][count]=2&table[prevSort][order]=ascending&table[prevSort][key]=&table[sort][count]=2&table[sort][order]=ascending&table[sort][key]=class&table[selectedRows][subject_005]=true&table[selectedRows][subject_016]=true&table[selectedRows][subject_019]=true&table[selectedRows][subject_030]=false&table[selectedRows][subject_032]=false&table[selectedRows][subject_035]=false&table[selectedRows][subject_036]=false&plots[checkboxes][right-corticospinal]=true&plots[zoom][rd][scale]=1&plots[zoom][rd][translate][0]=-3&plots[zoom][rd][translate][1]=-21&plots[zoom][fa][scale]=2.1140360811227614&plots[zoom][fa][translate][0]=-27.244995845837778&plots[zoom][fa][translate][1]=-106.10468474511174&plots[plotKey]=fa&plots[errorType]=stderr&plots[lineOpacity]=0.0)\n",
    "- [False positives](https://yeatmanlab.github.io/Sarica_2017/?table[prevSort][count]=2&table[prevSort][order]=ascending&table[prevSort][key]=&table[sort][count]=2&table[sort][order]=ascending&table[sort][key]=class&table[selectedRows][subject_005]=false&table[selectedRows][subject_007]=false&table[selectedRows][subject_016]=false&table[selectedRows][subject_019]=false&table[selectedRows][subject_032]=true&table[selectedRows][subject_035]=true&table[selectedRows][subject_036]=true&plots[checkboxes][right-corticospinal]=true&plots[zoom][rd][scale]=1&plots[zoom][rd][translate][0]=-3&plots[zoom][rd][translate][1]=-21&plots[zoom][fa][scale]=2.1140360811227614&plots[zoom][fa][translate][0]=-27.244995845837778&plots[zoom][fa][translate][1]=-106.10468474511174&plots[plotKey]=fa&plots[errorType]=stderr&plots[lineOpacity]=0.0)"
   ]
  },
  {
   "cell_type": "markdown",
   "metadata": {},
   "source": [
    "# Feature Importance"
   ]
  },
  {
   "cell_type": "markdown",
   "metadata": {},
   "source": [
    "Let's sort the features by their importance"
   ]
  },
  {
   "cell_type": "code",
   "execution_count": 20,
   "metadata": {},
   "outputs": [],
   "source": [
    "feature_dicts = afqi.multicol2dicts(columns, tract_symmetry=False)\n",
    "mean_beta = np.mean(np.array([np.delete(res.beta_hat, bias_index) for res in hp_cv_res_acc]),\n",
    "                    axis=0)\n",
    "\n",
    "sorted_features = afqi.sort_features(feature_dicts, mean_beta)"
   ]
  },
  {
   "cell_type": "markdown",
   "metadata": {},
   "source": [
    "It's nice to see the top few features in a sorted list, but let's plot the features to get a feel for their distributions"
   ]
  },
  {
   "cell_type": "code",
   "execution_count": 21,
   "metadata": {},
   "outputs": [],
   "source": [
    "betas_by_group = afqi.beta_hat_by_groups(mean_beta, columns=columns, drop_zeros=True)"
   ]
  },
  {
   "cell_type": "markdown",
   "metadata": {},
   "source": [
    "First let's plot the coefficients themselves"
   ]
  },
  {
   "cell_type": "code",
   "execution_count": 22,
   "metadata": {},
   "outputs": [],
   "source": [
    "unfolded_beta = afqi.transform.unfold_beta_hat_by_metrics(\n",
    "    beta_hat=mean_beta,\n",
    "    columns=columns\n",
    ")"
   ]
  },
  {
   "cell_type": "code",
   "execution_count": 38,
   "metadata": {},
   "outputs": [],
   "source": [
    "width = 1750\n",
    "height = 400\n",
    "output_html = None\n",
    "\n",
    "p = figure(plot_width=width, plot_height=height, toolbar_location='above',\n",
    "              tools=\"\")\n",
    "p.title.text = 'Feature weights in the \"unfolded\" brain'\n",
    "\n",
    "len_alltracts = len(unfolded_beta[list(unfolded_beta.keys())[0]])\n",
    "n_tracts = len(afqi.utils.canonical_tract_names)\n",
    "n_nodes = len_alltracts / n_tracts\n",
    "ticks = np.arange(0, len_alltracts, n_nodes)\n",
    "\n",
    "p.xaxis.ticker = FixedTicker(ticks=[ticks[4] + n_nodes/2, ticks[-4] - n_nodes/2],\n",
    "                             minor_ticks=[ticks[0], ticks[9], ticks[11], ticks[-1] + n_nodes])\n",
    "p.xaxis.major_label_overrides = {int(ticks[4] + n_nodes/2): 'Left Hemisphere',\n",
    "                                 int(ticks[-4] - n_nodes/2): 'Right Hemisphere'}\n",
    "\n",
    "p.xaxis.minor_tick_line_color = None  # turn off x-axis minor ticks\n",
    "p.xaxis.major_tick_line_color = None  # turn off x-axis major ticks\n",
    "\n",
    "p.xaxis.major_label_text_font_size = '14pt'  # turn off x-axis tick labels\n",
    "\n",
    "p.x_range = Range1d(0, len_alltracts)\n",
    "p.xgrid.grid_line_color = None\n",
    "\n",
    "tract_colors = np.copy(palettable.tableau.Tableau_20.hex_colors).tolist()\n",
    "tract_colors = (tract_colors[1:-2:2]\n",
    "                + tract_colors[-2:]\n",
    "                + tract_colors[-3::-2])\n",
    "\n",
    "for i, color in enumerate(tract_colors):\n",
    "    p.add_layout(BoxAnnotation(\n",
    "        left=ticks[i], right=ticks[i] + n_nodes,\n",
    "        fill_color=color, fill_alpha=0.15\n",
    "    ))\n",
    "\n",
    "    p.add_layout(Label(\n",
    "        x=ticks[i] + n_nodes / 2,\n",
    "        y=10,\n",
    "        x_units='data',\n",
    "        y_units='screen',\n",
    "        text=afqi.utils.canonical_tract_names[i].replace('Left ', '').replace('Right ',''),\n",
    "        render_mode='canvas',\n",
    "        border_line_alpha=0.0,\n",
    "        background_fill_alpha=0.0,\n",
    "        angle=np.pi / 2,\n",
    "        text_align='left',\n",
    "        text_baseline='middle'\n",
    "    ))\n",
    "\n",
    "p.add_layout(BoxAnnotation(\n",
    "    left=ticks[0], right=ticks[9],\n",
    "    fill_color=None, fill_alpha=0.0,\n",
    "    line_color=\"black\", line_width=4\n",
    "))\n",
    "p.add_layout(BoxAnnotation(\n",
    "    left=ticks[9], right=ticks[11],\n",
    "    fill_color=None, fill_alpha=0.0,\n",
    "    line_color=\"black\", line_width=4\n",
    "))\n",
    "p.add_layout(BoxAnnotation(\n",
    "    left=ticks[11], right=ticks[-1] + n_nodes,\n",
    "    fill_color=None, fill_alpha=0.0,\n",
    "    line_color=\"black\", line_width=4\n",
    "))\n",
    "    \n",
    "unfolded_beta['x'] = np.arange(len_alltracts)\n",
    "source = ColumnDataSource(data=unfolded_beta)\n",
    "del unfolded_beta['x']\n",
    "\n",
    "lines = {}\n",
    "for name, color in zip(\n",
    "        unfolded_beta.keys(),\n",
    "        Category10[max(len(list(unfolded_beta.keys())),\n",
    "                       min(list(Category10.keys())))]\n",
    "):\n",
    "    lines[name] = p.line(\n",
    "        x='x', y=name, source=source, name=name,\n",
    "        line_width=3, color=color\n",
    "    )\n",
    "\n",
    "p.add_tools(HoverTool(\n",
    "    show_arrow=False,\n",
    "    line_policy='interp',\n",
    "    tooltips=[\n",
    "        ('metric', '$name'),\n",
    "        ('beta', '$y'),\n",
    "    ],\n",
    "    point_policy='snap_to_data',\n",
    "    renderers=list(lines.values())\n",
    "))\n",
    "\n",
    "legend = Legend(items=[\n",
    "    (name, [renderer]) for name, renderer in lines.items()\n",
    "], location=(0, 70))\n",
    "\n",
    "p.add_layout(\n",
    "    Title(text='Click on legend entries to hide/show lines',\n",
    "          align=\"left\"), 'right'\n",
    ")\n",
    "p.add_layout(legend, 'right')\n",
    "p.legend.click_policy = 'hide'\n",
    "\n",
    "p.title.text_font_size = \"18pt\"\n",
    "p.yaxis.axis_label = \"β\"\n",
    "p.yaxis.axis_label_text_font_size = \"18pt\"\n",
    "\n",
    "output_html = \"../docs/img/bokeh_plots/classification_unfolded_beta_small.html\"\n",
    "if output_html is not None:\n",
    "    html = file_html(p, CDN, \"my plot\")\n",
    "    with open(op.abspath(output_html), 'w') as fp:\n",
    "        fp.write(html)\n",
    "\n",
    "# show(p)"
   ]
  },
  {
   "cell_type": "code",
   "execution_count": null,
   "metadata": {},
   "outputs": [],
   "source": []
  },
  {
   "cell_type": "code",
   "execution_count": null,
   "metadata": {},
   "outputs": [],
   "source": [
    "afqi.plot.plot_pca_space(\n",
    "    x=np.delete(x, bias_index, axis=1),\n",
    "    y=y,\n",
    "    beta=mean_beta,\n",
    "    target_name='Status',\n",
    "    plot_type='classification',\n",
    "    classification_strings={0: 'Control', 1: 'ALS'},\n",
    "    output_html='../docs/img/bokeh_plots/classification_pca_both.html',\n",
    "    width=750,\n",
    "    height=750\n",
    ")"
   ]
  },
  {
   "cell_type": "code",
   "execution_count": null,
   "metadata": {},
   "outputs": [],
   "source": [
    "afqi.plot.plot_pca_space(\n",
    "    x=np.delete(x, bias_index, axis=1),\n",
    "    y=y,\n",
    "    beta=mean_beta,\n",
    "    target_name='Status',\n",
    "    plot_type='classification',\n",
    "    plot_both=False,\n",
    "    classification_strings={0: 'Control', 1: 'ALS'},\n",
    "    output_html='../docs/img/bokeh_plots/classification_pca_sgl_only.html',\n",
    "    width=750,\n",
    "    height=750\n",
    ")"
   ]
  },
  {
   "cell_type": "code",
   "execution_count": null,
   "metadata": {},
   "outputs": [],
   "source": []
  }
 ],
 "metadata": {
  "kernelspec": {
   "display_name": "Python 3",
   "language": "python",
   "name": "python3"
  },
  "language_info": {
   "codemirror_mode": {
    "name": "ipython",
    "version": 3
   },
   "file_extension": ".py",
   "mimetype": "text/x-python",
   "name": "python",
   "nbconvert_exporter": "python",
   "pygments_lexer": "ipython3",
   "version": "3.7.0"
  }
 },
 "nbformat": 4,
 "nbformat_minor": 2
}
