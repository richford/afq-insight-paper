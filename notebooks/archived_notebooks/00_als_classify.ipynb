{
 "cells": [
  {
   "cell_type": "markdown",
   "metadata": {},
   "source": [
    "# Classify ALS status using AFQ-Insight"
   ]
  },
  {
   "cell_type": "code",
   "execution_count": 1,
   "metadata": {},
   "outputs": [],
   "source": [
    "import afqinsight as afqi\n",
    "import itertools\n",
    "import matplotlib.pyplot as plt\n",
    "import numpy as np\n",
    "import os.path as op\n",
    "import pandas as pd\n",
    "import palettable\n",
    "import pickle\n",
    "\n",
    "from matplotlib.colors import to_hex\n",
    "from mpl_toolkits.mplot3d import Axes3D\n",
    "\n",
    "from bokeh.io import output_notebook, reset_output, export_png\n",
    "from bokeh.embed import file_html\n",
    "from bokeh.layouts import row, column, widgetbox\n",
    "from bokeh.models import BoxSelectTool, HoverTool, Legend, Title, Range1d, CustomJS, ColorBar\n",
    "from bokeh.models.tickers import FixedTicker\n",
    "from bokeh.models.mappers import LinearColorMapper\n",
    "from bokeh.palettes import Spectral10, RdBu, Category10\n",
    "from bokeh.plotting import figure, show, ColumnDataSource\n",
    "from bokeh.resources import CDN\n",
    "from bokeh.transform import factor_cmap\n",
    "from bokeh.models import BoxAnnotation, Label\n",
    "\n",
    "from sklearn.decomposition import PCA\n",
    "import seaborn as sns\n",
    "\n",
    "%matplotlib notebook"
   ]
  },
  {
   "cell_type": "code",
   "execution_count": 2,
   "metadata": {},
   "outputs": [
    {
     "data": {
      "text/html": [
       "\n",
       "    <div class=\"bk-root\">\n",
       "        <a href=\"https://bokeh.pydata.org\" target=\"_blank\" class=\"bk-logo bk-logo-small bk-logo-notebook\"></a>\n",
       "        <span id=\"1001\">Loading BokehJS ...</span>\n",
       "    </div>"
      ]
     },
     "metadata": {},
     "output_type": "display_data"
    },
    {
     "data": {
      "application/javascript": [
       "\n",
       "(function(root) {\n",
       "  function now() {\n",
       "    return new Date();\n",
       "  }\n",
       "\n",
       "  var force = true;\n",
       "\n",
       "  if (typeof root._bokeh_onload_callbacks === \"undefined\" || force === true) {\n",
       "    root._bokeh_onload_callbacks = [];\n",
       "    root._bokeh_is_loading = undefined;\n",
       "  }\n",
       "\n",
       "  var JS_MIME_TYPE = 'application/javascript';\n",
       "  var HTML_MIME_TYPE = 'text/html';\n",
       "  var EXEC_MIME_TYPE = 'application/vnd.bokehjs_exec.v0+json';\n",
       "  var CLASS_NAME = 'output_bokeh rendered_html';\n",
       "\n",
       "  /**\n",
       "   * Render data to the DOM node\n",
       "   */\n",
       "  function render(props, node) {\n",
       "    var script = document.createElement(\"script\");\n",
       "    node.appendChild(script);\n",
       "  }\n",
       "\n",
       "  /**\n",
       "   * Handle when an output is cleared or removed\n",
       "   */\n",
       "  function handleClearOutput(event, handle) {\n",
       "    var cell = handle.cell;\n",
       "\n",
       "    var id = cell.output_area._bokeh_element_id;\n",
       "    var server_id = cell.output_area._bokeh_server_id;\n",
       "    // Clean up Bokeh references\n",
       "    if (id != null && id in Bokeh.index) {\n",
       "      Bokeh.index[id].model.document.clear();\n",
       "      delete Bokeh.index[id];\n",
       "    }\n",
       "\n",
       "    if (server_id !== undefined) {\n",
       "      // Clean up Bokeh references\n",
       "      var cmd = \"from bokeh.io.state import curstate; print(curstate().uuid_to_server['\" + server_id + \"'].get_sessions()[0].document.roots[0]._id)\";\n",
       "      cell.notebook.kernel.execute(cmd, {\n",
       "        iopub: {\n",
       "          output: function(msg) {\n",
       "            var id = msg.content.text.trim();\n",
       "            if (id in Bokeh.index) {\n",
       "              Bokeh.index[id].model.document.clear();\n",
       "              delete Bokeh.index[id];\n",
       "            }\n",
       "          }\n",
       "        }\n",
       "      });\n",
       "      // Destroy server and session\n",
       "      var cmd = \"import bokeh.io.notebook as ion; ion.destroy_server('\" + server_id + \"')\";\n",
       "      cell.notebook.kernel.execute(cmd);\n",
       "    }\n",
       "  }\n",
       "\n",
       "  /**\n",
       "   * Handle when a new output is added\n",
       "   */\n",
       "  function handleAddOutput(event, handle) {\n",
       "    var output_area = handle.output_area;\n",
       "    var output = handle.output;\n",
       "\n",
       "    // limit handleAddOutput to display_data with EXEC_MIME_TYPE content only\n",
       "    if ((output.output_type != \"display_data\") || (!output.data.hasOwnProperty(EXEC_MIME_TYPE))) {\n",
       "      return\n",
       "    }\n",
       "\n",
       "    var toinsert = output_area.element.find(\".\" + CLASS_NAME.split(' ')[0]);\n",
       "\n",
       "    if (output.metadata[EXEC_MIME_TYPE][\"id\"] !== undefined) {\n",
       "      toinsert[toinsert.length - 1].firstChild.textContent = output.data[JS_MIME_TYPE];\n",
       "      // store reference to embed id on output_area\n",
       "      output_area._bokeh_element_id = output.metadata[EXEC_MIME_TYPE][\"id\"];\n",
       "    }\n",
       "    if (output.metadata[EXEC_MIME_TYPE][\"server_id\"] !== undefined) {\n",
       "      var bk_div = document.createElement(\"div\");\n",
       "      bk_div.innerHTML = output.data[HTML_MIME_TYPE];\n",
       "      var script_attrs = bk_div.children[0].attributes;\n",
       "      for (var i = 0; i < script_attrs.length; i++) {\n",
       "        toinsert[toinsert.length - 1].firstChild.setAttribute(script_attrs[i].name, script_attrs[i].value);\n",
       "      }\n",
       "      // store reference to server id on output_area\n",
       "      output_area._bokeh_server_id = output.metadata[EXEC_MIME_TYPE][\"server_id\"];\n",
       "    }\n",
       "  }\n",
       "\n",
       "  function register_renderer(events, OutputArea) {\n",
       "\n",
       "    function append_mime(data, metadata, element) {\n",
       "      // create a DOM node to render to\n",
       "      var toinsert = this.create_output_subarea(\n",
       "        metadata,\n",
       "        CLASS_NAME,\n",
       "        EXEC_MIME_TYPE\n",
       "      );\n",
       "      this.keyboard_manager.register_events(toinsert);\n",
       "      // Render to node\n",
       "      var props = {data: data, metadata: metadata[EXEC_MIME_TYPE]};\n",
       "      render(props, toinsert[toinsert.length - 1]);\n",
       "      element.append(toinsert);\n",
       "      return toinsert\n",
       "    }\n",
       "\n",
       "    /* Handle when an output is cleared or removed */\n",
       "    events.on('clear_output.CodeCell', handleClearOutput);\n",
       "    events.on('delete.Cell', handleClearOutput);\n",
       "\n",
       "    /* Handle when a new output is added */\n",
       "    events.on('output_added.OutputArea', handleAddOutput);\n",
       "\n",
       "    /**\n",
       "     * Register the mime type and append_mime function with output_area\n",
       "     */\n",
       "    OutputArea.prototype.register_mime_type(EXEC_MIME_TYPE, append_mime, {\n",
       "      /* Is output safe? */\n",
       "      safe: true,\n",
       "      /* Index of renderer in `output_area.display_order` */\n",
       "      index: 0\n",
       "    });\n",
       "  }\n",
       "\n",
       "  // register the mime type if in Jupyter Notebook environment and previously unregistered\n",
       "  if (root.Jupyter !== undefined) {\n",
       "    var events = require('base/js/events');\n",
       "    var OutputArea = require('notebook/js/outputarea').OutputArea;\n",
       "\n",
       "    if (OutputArea.prototype.mime_types().indexOf(EXEC_MIME_TYPE) == -1) {\n",
       "      register_renderer(events, OutputArea);\n",
       "    }\n",
       "  }\n",
       "\n",
       "  \n",
       "  if (typeof (root._bokeh_timeout) === \"undefined\" || force === true) {\n",
       "    root._bokeh_timeout = Date.now() + 5000;\n",
       "    root._bokeh_failed_load = false;\n",
       "  }\n",
       "\n",
       "  var NB_LOAD_WARNING = {'data': {'text/html':\n",
       "     \"<div style='background-color: #fdd'>\\n\"+\n",
       "     \"<p>\\n\"+\n",
       "     \"BokehJS does not appear to have successfully loaded. If loading BokehJS from CDN, this \\n\"+\n",
       "     \"may be due to a slow or bad network connection. Possible fixes:\\n\"+\n",
       "     \"</p>\\n\"+\n",
       "     \"<ul>\\n\"+\n",
       "     \"<li>re-rerun `output_notebook()` to attempt to load from CDN again, or</li>\\n\"+\n",
       "     \"<li>use INLINE resources instead, as so:</li>\\n\"+\n",
       "     \"</ul>\\n\"+\n",
       "     \"<code>\\n\"+\n",
       "     \"from bokeh.resources import INLINE\\n\"+\n",
       "     \"output_notebook(resources=INLINE)\\n\"+\n",
       "     \"</code>\\n\"+\n",
       "     \"</div>\"}};\n",
       "\n",
       "  function display_loaded() {\n",
       "    var el = document.getElementById(\"1001\");\n",
       "    if (el != null) {\n",
       "      el.textContent = \"BokehJS is loading...\";\n",
       "    }\n",
       "    if (root.Bokeh !== undefined) {\n",
       "      if (el != null) {\n",
       "        el.textContent = \"BokehJS \" + root.Bokeh.version + \" successfully loaded.\";\n",
       "      }\n",
       "    } else if (Date.now() < root._bokeh_timeout) {\n",
       "      setTimeout(display_loaded, 100)\n",
       "    }\n",
       "  }\n",
       "\n",
       "\n",
       "  function run_callbacks() {\n",
       "    try {\n",
       "      root._bokeh_onload_callbacks.forEach(function(callback) {\n",
       "        if (callback != null)\n",
       "          callback();\n",
       "      });\n",
       "    } finally {\n",
       "      delete root._bokeh_onload_callbacks\n",
       "    }\n",
       "    console.debug(\"Bokeh: all callbacks have finished\");\n",
       "  }\n",
       "\n",
       "  function load_libs(css_urls, js_urls, callback) {\n",
       "    if (css_urls == null) css_urls = [];\n",
       "    if (js_urls == null) js_urls = [];\n",
       "\n",
       "    root._bokeh_onload_callbacks.push(callback);\n",
       "    if (root._bokeh_is_loading > 0) {\n",
       "      console.debug(\"Bokeh: BokehJS is being loaded, scheduling callback at\", now());\n",
       "      return null;\n",
       "    }\n",
       "    if (js_urls == null || js_urls.length === 0) {\n",
       "      run_callbacks();\n",
       "      return null;\n",
       "    }\n",
       "    console.debug(\"Bokeh: BokehJS not loaded, scheduling load and callback at\", now());\n",
       "    root._bokeh_is_loading = css_urls.length + js_urls.length;\n",
       "\n",
       "    function on_load() {\n",
       "      root._bokeh_is_loading--;\n",
       "      if (root._bokeh_is_loading === 0) {\n",
       "        console.debug(\"Bokeh: all BokehJS libraries/stylesheets loaded\");\n",
       "        run_callbacks()\n",
       "      }\n",
       "    }\n",
       "\n",
       "    function on_error() {\n",
       "      console.error(\"failed to load \" + url);\n",
       "    }\n",
       "\n",
       "    for (var i = 0; i < css_urls.length; i++) {\n",
       "      var url = css_urls[i];\n",
       "      const element = document.createElement(\"link\");\n",
       "      element.onload = on_load;\n",
       "      element.onerror = on_error;\n",
       "      element.rel = \"stylesheet\";\n",
       "      element.type = \"text/css\";\n",
       "      element.href = url;\n",
       "      console.debug(\"Bokeh: injecting link tag for BokehJS stylesheet: \", url);\n",
       "      document.body.appendChild(element);\n",
       "    }\n",
       "\n",
       "    for (var i = 0; i < js_urls.length; i++) {\n",
       "      var url = js_urls[i];\n",
       "      var element = document.createElement('script');\n",
       "      element.onload = on_load;\n",
       "      element.onerror = on_error;\n",
       "      element.async = false;\n",
       "      element.src = url;\n",
       "      console.debug(\"Bokeh: injecting script tag for BokehJS library: \", url);\n",
       "      document.head.appendChild(element);\n",
       "    }\n",
       "  };var element = document.getElementById(\"1001\");\n",
       "  if (element == null) {\n",
       "    console.error(\"Bokeh: ERROR: autoload.js configured with elementid '1001' but no matching script tag was found. \")\n",
       "    return false;\n",
       "  }\n",
       "\n",
       "  function inject_raw_css(css) {\n",
       "    const element = document.createElement(\"style\");\n",
       "    element.appendChild(document.createTextNode(css));\n",
       "    document.body.appendChild(element);\n",
       "  }\n",
       "\n",
       "  var js_urls = [\"https://cdn.pydata.org/bokeh/release/bokeh-1.1.0.min.js\", \"https://cdn.pydata.org/bokeh/release/bokeh-widgets-1.1.0.min.js\", \"https://cdn.pydata.org/bokeh/release/bokeh-tables-1.1.0.min.js\", \"https://cdn.pydata.org/bokeh/release/bokeh-gl-1.1.0.min.js\"];\n",
       "  var css_urls = [\"https://cdn.pydata.org/bokeh/release/bokeh-1.1.0.min.css\", \"https://cdn.pydata.org/bokeh/release/bokeh-widgets-1.1.0.min.css\", \"https://cdn.pydata.org/bokeh/release/bokeh-tables-1.1.0.min.css\"];\n",
       "\n",
       "  var inline_js = [\n",
       "    function(Bokeh) {\n",
       "      Bokeh.set_log_level(\"info\");\n",
       "    },\n",
       "    \n",
       "    function(Bokeh) {\n",
       "      \n",
       "    },\n",
       "    function(Bokeh) {} // ensure no trailing comma for IE\n",
       "  ];\n",
       "\n",
       "  function run_inline_js() {\n",
       "    \n",
       "    if ((root.Bokeh !== undefined) || (force === true)) {\n",
       "      for (var i = 0; i < inline_js.length; i++) {\n",
       "        inline_js[i].call(root, root.Bokeh);\n",
       "      }if (force === true) {\n",
       "        display_loaded();\n",
       "      }} else if (Date.now() < root._bokeh_timeout) {\n",
       "      setTimeout(run_inline_js, 100);\n",
       "    } else if (!root._bokeh_failed_load) {\n",
       "      console.log(\"Bokeh: BokehJS failed to load within specified timeout.\");\n",
       "      root._bokeh_failed_load = true;\n",
       "    } else if (force !== true) {\n",
       "      var cell = $(document.getElementById(\"1001\")).parents('.cell').data().cell;\n",
       "      cell.output_area.append_execute_result(NB_LOAD_WARNING)\n",
       "    }\n",
       "\n",
       "  }\n",
       "\n",
       "  if (root._bokeh_is_loading === 0) {\n",
       "    console.debug(\"Bokeh: BokehJS loaded, going straight to plotting\");\n",
       "    run_inline_js();\n",
       "  } else {\n",
       "    load_libs(css_urls, js_urls, function() {\n",
       "      console.debug(\"Bokeh: BokehJS plotting callback run at\", now());\n",
       "      run_inline_js();\n",
       "    });\n",
       "  }\n",
       "}(window));"
      ],
      "application/vnd.bokehjs_load.v0+json": "\n(function(root) {\n  function now() {\n    return new Date();\n  }\n\n  var force = true;\n\n  if (typeof root._bokeh_onload_callbacks === \"undefined\" || force === true) {\n    root._bokeh_onload_callbacks = [];\n    root._bokeh_is_loading = undefined;\n  }\n\n  \n\n  \n  if (typeof (root._bokeh_timeout) === \"undefined\" || force === true) {\n    root._bokeh_timeout = Date.now() + 5000;\n    root._bokeh_failed_load = false;\n  }\n\n  var NB_LOAD_WARNING = {'data': {'text/html':\n     \"<div style='background-color: #fdd'>\\n\"+\n     \"<p>\\n\"+\n     \"BokehJS does not appear to have successfully loaded. If loading BokehJS from CDN, this \\n\"+\n     \"may be due to a slow or bad network connection. Possible fixes:\\n\"+\n     \"</p>\\n\"+\n     \"<ul>\\n\"+\n     \"<li>re-rerun `output_notebook()` to attempt to load from CDN again, or</li>\\n\"+\n     \"<li>use INLINE resources instead, as so:</li>\\n\"+\n     \"</ul>\\n\"+\n     \"<code>\\n\"+\n     \"from bokeh.resources import INLINE\\n\"+\n     \"output_notebook(resources=INLINE)\\n\"+\n     \"</code>\\n\"+\n     \"</div>\"}};\n\n  function display_loaded() {\n    var el = document.getElementById(\"1001\");\n    if (el != null) {\n      el.textContent = \"BokehJS is loading...\";\n    }\n    if (root.Bokeh !== undefined) {\n      if (el != null) {\n        el.textContent = \"BokehJS \" + root.Bokeh.version + \" successfully loaded.\";\n      }\n    } else if (Date.now() < root._bokeh_timeout) {\n      setTimeout(display_loaded, 100)\n    }\n  }\n\n\n  function run_callbacks() {\n    try {\n      root._bokeh_onload_callbacks.forEach(function(callback) {\n        if (callback != null)\n          callback();\n      });\n    } finally {\n      delete root._bokeh_onload_callbacks\n    }\n    console.debug(\"Bokeh: all callbacks have finished\");\n  }\n\n  function load_libs(css_urls, js_urls, callback) {\n    if (css_urls == null) css_urls = [];\n    if (js_urls == null) js_urls = [];\n\n    root._bokeh_onload_callbacks.push(callback);\n    if (root._bokeh_is_loading > 0) {\n      console.debug(\"Bokeh: BokehJS is being loaded, scheduling callback at\", now());\n      return null;\n    }\n    if (js_urls == null || js_urls.length === 0) {\n      run_callbacks();\n      return null;\n    }\n    console.debug(\"Bokeh: BokehJS not loaded, scheduling load and callback at\", now());\n    root._bokeh_is_loading = css_urls.length + js_urls.length;\n\n    function on_load() {\n      root._bokeh_is_loading--;\n      if (root._bokeh_is_loading === 0) {\n        console.debug(\"Bokeh: all BokehJS libraries/stylesheets loaded\");\n        run_callbacks()\n      }\n    }\n\n    function on_error() {\n      console.error(\"failed to load \" + url);\n    }\n\n    for (var i = 0; i < css_urls.length; i++) {\n      var url = css_urls[i];\n      const element = document.createElement(\"link\");\n      element.onload = on_load;\n      element.onerror = on_error;\n      element.rel = \"stylesheet\";\n      element.type = \"text/css\";\n      element.href = url;\n      console.debug(\"Bokeh: injecting link tag for BokehJS stylesheet: \", url);\n      document.body.appendChild(element);\n    }\n\n    for (var i = 0; i < js_urls.length; i++) {\n      var url = js_urls[i];\n      var element = document.createElement('script');\n      element.onload = on_load;\n      element.onerror = on_error;\n      element.async = false;\n      element.src = url;\n      console.debug(\"Bokeh: injecting script tag for BokehJS library: \", url);\n      document.head.appendChild(element);\n    }\n  };var element = document.getElementById(\"1001\");\n  if (element == null) {\n    console.error(\"Bokeh: ERROR: autoload.js configured with elementid '1001' but no matching script tag was found. \")\n    return false;\n  }\n\n  function inject_raw_css(css) {\n    const element = document.createElement(\"style\");\n    element.appendChild(document.createTextNode(css));\n    document.body.appendChild(element);\n  }\n\n  var js_urls = [\"https://cdn.pydata.org/bokeh/release/bokeh-1.1.0.min.js\", \"https://cdn.pydata.org/bokeh/release/bokeh-widgets-1.1.0.min.js\", \"https://cdn.pydata.org/bokeh/release/bokeh-tables-1.1.0.min.js\", \"https://cdn.pydata.org/bokeh/release/bokeh-gl-1.1.0.min.js\"];\n  var css_urls = [\"https://cdn.pydata.org/bokeh/release/bokeh-1.1.0.min.css\", \"https://cdn.pydata.org/bokeh/release/bokeh-widgets-1.1.0.min.css\", \"https://cdn.pydata.org/bokeh/release/bokeh-tables-1.1.0.min.css\"];\n\n  var inline_js = [\n    function(Bokeh) {\n      Bokeh.set_log_level(\"info\");\n    },\n    \n    function(Bokeh) {\n      \n    },\n    function(Bokeh) {} // ensure no trailing comma for IE\n  ];\n\n  function run_inline_js() {\n    \n    if ((root.Bokeh !== undefined) || (force === true)) {\n      for (var i = 0; i < inline_js.length; i++) {\n        inline_js[i].call(root, root.Bokeh);\n      }if (force === true) {\n        display_loaded();\n      }} else if (Date.now() < root._bokeh_timeout) {\n      setTimeout(run_inline_js, 100);\n    } else if (!root._bokeh_failed_load) {\n      console.log(\"Bokeh: BokehJS failed to load within specified timeout.\");\n      root._bokeh_failed_load = true;\n    } else if (force !== true) {\n      var cell = $(document.getElementById(\"1001\")).parents('.cell').data().cell;\n      cell.output_area.append_execute_result(NB_LOAD_WARNING)\n    }\n\n  }\n\n  if (root._bokeh_is_loading === 0) {\n    console.debug(\"Bokeh: BokehJS loaded, going straight to plotting\");\n    run_inline_js();\n  } else {\n    load_libs(css_urls, js_urls, function() {\n      console.debug(\"Bokeh: BokehJS plotting callback run at\", now());\n      run_inline_js();\n    });\n  }\n}(window));"
     },
     "metadata": {},
     "output_type": "display_data"
    }
   ],
   "source": [
    "output_notebook()"
   ]
  },
  {
   "cell_type": "markdown",
   "metadata": {},
   "source": [
    "## Load the data"
   ]
  },
  {
   "cell_type": "code",
   "execution_count": 3,
   "metadata": {},
   "outputs": [
    {
     "name": "stderr",
     "output_type": "stream",
     "text": [
      "/Users/richford/miniconda3/envs/insight-dev/lib/python3.6/site-packages/pandas/core/indexing.py:635: SettingWithCopyWarning: \n",
      "A value is trying to be set on a copy of a slice from a DataFrame.\n",
      "Try using .loc[row_indexer,col_indexer] = value instead\n",
      "\n",
      "See the caveats in the documentation: http://pandas.pydata.org/pandas-docs/stable/indexing.html#indexing-view-versus-copy\n",
      "  self.obj[item_labels[indexer[info_axis]]] = value\n"
     ]
    }
   ],
   "source": [
    "afq_data = afqi.load_afq_data(\n",
    "    '../data/raw/als_data',\n",
    "    target_cols=['class'],\n",
    "    binary_positives={'class': 'ALS'},\n",
    "    scale_x=False\n",
    ")\n",
    "\n",
    "x, y, groups, columns, bias_index = (\n",
    "    afq_data.x,\n",
    "    afq_data.y['class'],\n",
    "    afq_data.groups,\n",
    "    afq_data.columns,\n",
    "    afq_data.bias_index\n",
    ")"
   ]
  },
  {
   "cell_type": "code",
   "execution_count": 4,
   "metadata": {},
   "outputs": [
    {
     "data": {
      "text/plain": [
       "48"
      ]
     },
     "execution_count": 4,
     "metadata": {},
     "output_type": "execute_result"
    }
   ],
   "source": [
    "len(y)"
   ]
  },
  {
   "cell_type": "code",
   "execution_count": 5,
   "metadata": {},
   "outputs": [],
   "source": [
    "label_sets = afqi.multicol2sets(columns, tract_symmetry=True)\n",
    "select_labels = [[\"fa\"], [\"md\"]]\n",
    "x_md_fa = afqi.select_groups(np.delete(x, bias_index, axis=1), select_labels, label_sets)"
   ]
  },
  {
   "cell_type": "code",
   "execution_count": 6,
   "metadata": {},
   "outputs": [],
   "source": [
    "x_md_fa = np.hstack([x_md_fa, x[:, bias_index][:, np.newaxis]])"
   ]
  },
  {
   "cell_type": "markdown",
   "metadata": {},
   "source": [
    "## Find the optimal feature coefficients $\\widehat{\\beta}$"
   ]
  },
  {
   "cell_type": "markdown",
   "metadata": {},
   "source": [
    "We search for the optimal coefficients using two different classification scores: accuracy and ROC AUC."
   ]
  },
  {
   "cell_type": "code",
   "execution_count": 7,
   "metadata": {},
   "outputs": [],
   "source": [
    "# hp_cv_res_acc_reload = afqi.fit_hyperparams_cv(\n",
    "#     x, y, groups, bias_index=bias_index,\n",
    "#     n_splits=10, n_repeats=5,\n",
    "#     max_evals_per_cv=5,\n",
    "#     score='accuracy',\n",
    "#     trials_pickle_dir='./trials_classification/new_trials_for_poster',\n",
    "#     verbose=1, random_state=42, clf_threshold=0.5\n",
    "# )"
   ]
  },
  {
   "cell_type": "code",
   "execution_count": 8,
   "metadata": {},
   "outputs": [],
   "source": [
    "# hp_cv_res_acc_reload_add = afqi.fit_hyperparams_cv(\n",
    "#     x, y, groups, bias_index=bias_index,\n",
    "#     n_splits=10, n_repeats=5,\n",
    "#     max_evals_per_cv=10,\n",
    "#     score='accuracy',\n",
    "#     trials_pickle_dir='./trials_classification/new_trials_for_poster',\n",
    "#     verbose=1, random_state=42, clf_threshold=0.5\n",
    "# )"
   ]
  },
  {
   "cell_type": "code",
   "execution_count": 9,
   "metadata": {},
   "outputs": [],
   "source": [
    "import pickle"
   ]
  },
  {
   "cell_type": "code",
   "execution_count": 10,
   "metadata": {},
   "outputs": [],
   "source": [
    "# with open(\"poster_hp_cv_res_acc_reload.pkl\", \"wb\") as fp:\n",
    "#     pickle.dump(hp_cv_res_acc_reload, fp)"
   ]
  },
  {
   "cell_type": "code",
   "execution_count": 11,
   "metadata": {},
   "outputs": [],
   "source": [
    "# with open(\"poster_hp_cv_res_acc_reload_add.pkl\", \"wb\") as fp:\n",
    "#     pickle.dump(hp_cv_res_acc_reload_add, fp)"
   ]
  },
  {
   "cell_type": "code",
   "execution_count": 12,
   "metadata": {},
   "outputs": [],
   "source": [
    "with open(\"poster_hp_cv_res_acc_reload.pkl\", \"rb\") as fp:\n",
    "    hp_cv_res_acc_reload = pickle.load(fp)\n",
    "\n",
    "with open(\"poster_hp_cv_res_acc_reload_add.pkl\", \"rb\") as fp:\n",
    "    hp_cv_res_acc_reload_add = pickle.load(fp)"
   ]
  },
  {
   "cell_type": "code",
   "execution_count": 13,
   "metadata": {},
   "outputs": [],
   "source": [
    "# hp_cv_res_acc_md_fa = afqi.fit_hyperparams_cv(\n",
    "#     x_md_fa, y, groups[:40], bias_index=4000,\n",
    "#     n_splits=10, n_repeats=3,\n",
    "#     max_evals_per_cv=80,\n",
    "#     score='accuracy',\n",
    "#     trials_pickle_dir='./trials_classification/cv3x10_v2_rs42_scaled_accuracy_md_fa_only',\n",
    "#     verbose=1, random_state=42, clf_threshold=0.5\n",
    "# )"
   ]
  },
  {
   "cell_type": "code",
   "execution_count": 14,
   "metadata": {},
   "outputs": [],
   "source": [
    "# hp_cv_res_auc = afqi.fit_hyperparams_cv(\n",
    "#     x, y, groups, bias_index=bias_index,\n",
    "#     n_splits=10, n_repeats=3,\n",
    "#     max_evals_per_cv=10,\n",
    "#     score='roc_auc',\n",
    "#     trials_pickle_dir='./trials_classification/cv3x10_v2_rs42_scaled_auc_new',\n",
    "#     verbose=1, random_state=42, clf_threshold=0.5\n",
    "# )"
   ]
  },
  {
   "cell_type": "code",
   "execution_count": 15,
   "metadata": {},
   "outputs": [],
   "source": [
    "# hp_cv_res_auc_md_fa = afqi.fit_hyperparams_cv(\n",
    "#     x_md_fa, y, groups[:40], bias_index=4000,\n",
    "#     n_splits=10, n_repeats=3,\n",
    "#     max_evals_per_cv=10,\n",
    "#     score='roc_auc',\n",
    "#     trials_pickle_dir='./trials_classification/cv3x10_v2_rs42_scaled_auc_md_fa_only_new',\n",
    "#     verbose=1, random_state=42, clf_threshold=0.5\n",
    "# )"
   ]
  },
  {
   "cell_type": "code",
   "execution_count": 16,
   "metadata": {},
   "outputs": [],
   "source": [
    "# hp_cv_res_avgprec = afqi.fit_hyperparams_cv(\n",
    "#     x, y, groups, bias_index=bias_index,\n",
    "#     n_splits=10, n_repeats=3,\n",
    "#     max_evals_per_cv=10,\n",
    "#     score='avg_precision',\n",
    "#     trials_pickle_dir='./trials_classification/cv3x10_v2_rs42_scaled_avgprec_new',\n",
    "#     verbose=1, random_state=42, clf_threshold=0.5\n",
    "# )"
   ]
  },
  {
   "cell_type": "code",
   "execution_count": 17,
   "metadata": {},
   "outputs": [],
   "source": [
    "# hp_cv_res_avgprec_md_fa = afqi.fit_hyperparams_cv(\n",
    "#     x_md_fa, y, groups[:40], bias_index=4000,\n",
    "#     n_splits=10, n_repeats=3,\n",
    "#     max_evals_per_cv=10,\n",
    "#     score='avg_precision',\n",
    "#     trials_pickle_dir='./trials_classification/cv3x10_v2_rs42_scaled_avgprec_md_fa_only_new',\n",
    "#     verbose=1, random_state=42, clf_threshold=0.5\n",
    "# )"
   ]
  },
  {
   "cell_type": "code",
   "execution_count": 18,
   "metadata": {},
   "outputs": [],
   "source": [
    "def print_results_summary(hp_cv_results):\n",
    "    template = '{stat:15s} {mean:7.5g} ({var:7.5g})'\n",
    "    test = [r[\"test\"] for r in hp_cv_results]\n",
    "    train = [r[\"train\"] for r in hp_cv_results]\n",
    "    test_acc = [t[\"accuracy\"] for t in test]\n",
    "    test_auc = [t[\"auc\"] for t in test]\n",
    "    test_aps = [t[\"avg_precision\"] for t in test]\n",
    "    train_acc = [t[\"accuracy\"] for t in train]\n",
    "    train_auc = [t[\"auc\"] for t in train]\n",
    "    train_aps = [t[\"avg_precision\"] for t in train]\n",
    "\n",
    "    print('Statistic         mean   (variance)')\n",
    "    print('--------------  ------- ------------')\n",
    "    print(template.format(stat='test accuracy', mean=np.mean(test_acc), var=np.var(test_acc)))\n",
    "    print(template.format(stat='test AUC', mean=np.mean(test_auc), var=np.var(test_auc)))\n",
    "    print(template.format(stat='test avg prec', mean=np.mean(test_aps), var=np.var(test_aps)))\n",
    "    print(template.format(stat='train accuracy', mean=np.mean(train_acc), var=np.var(train_acc)))\n",
    "    print(template.format(stat='train AUC', mean=np.mean(train_auc), var=np.var(train_auc)))\n",
    "    print(template.format(stat='train avg prec', mean=np.mean(train_aps), var=np.var(train_aps)))"
   ]
  },
  {
   "cell_type": "code",
   "execution_count": 19,
   "metadata": {},
   "outputs": [
    {
     "name": "stdout",
     "output_type": "stream",
     "text": [
      "Statistic         mean   (variance)\n",
      "--------------  ------- ------------\n",
      "test accuracy     0.725 (0.050903)\n",
      "test AUC        0.80889 (0.054063)\n",
      "test avg prec   0.87456 (0.021622)\n",
      "train accuracy  0.99084 (0.0010409)\n",
      "train AUC       0.99705 (0.0001491)\n",
      "train avg prec  0.99684 (0.00018303)\n"
     ]
    }
   ],
   "source": [
    "print_results_summary(hp_cv_res_acc_reload)"
   ]
  },
  {
   "cell_type": "code",
   "execution_count": 20,
   "metadata": {},
   "outputs": [
    {
     "name": "stdout",
     "output_type": "stream",
     "text": [
      "Statistic         mean   (variance)\n",
      "--------------  ------- ------------\n",
      "test accuracy   0.74667 (0.039989)\n",
      "test AUC        0.82111 (0.042937)\n",
      "test avg prec   0.87967 (0.020481)\n",
      "train accuracy  0.99857 ( 0.0001)\n",
      "train AUC       0.99982 (1.6125e-06)\n",
      "train avg prec  0.99983 (1.4061e-06)\n"
     ]
    }
   ],
   "source": [
    "print_results_summary(hp_cv_res_acc_reload_add)"
   ]
  },
  {
   "cell_type": "code",
   "execution_count": 21,
   "metadata": {},
   "outputs": [],
   "source": [
    "test_set_y_hat = pd.concat([\n",
    "    pd.Series(data=afqi.insight._sigmoid(cv[\"test\"][\"x\"].dot(cv[\"beta_hat\"])),\n",
    "              index=cv[\"test\"][\"y\"].index,\n",
    "              name='yhat')\n",
    "    for cv in hp_cv_res_acc_reload_add\n",
    "]).groupby('subjectID').mean()"
   ]
  },
  {
   "cell_type": "code",
   "execution_count": 22,
   "metadata": {},
   "outputs": [],
   "source": [
    "test_probs = {\n",
    "    idx: pd.Series(\n",
    "        data=afqi.insight._sigmoid(cv[\"test\"][\"x\"].dot(cv[\"beta_hat\"])),\n",
    "        index=cv[\"test\"][\"y\"].index,\n",
    "        name='yhat'\n",
    "    )\n",
    "    for idx, cv in enumerate(hp_cv_res_acc_reload_add)\n",
    "}"
   ]
  },
  {
   "cell_type": "code",
   "execution_count": 23,
   "metadata": {},
   "outputs": [],
   "source": [
    "from sklearn.metrics import accuracy_score, average_precision_score, f1_score\n",
    "from sklearn.metrics import roc_auc_score, r2_score, mean_squared_error"
   ]
  },
  {
   "cell_type": "code",
   "execution_count": 24,
   "metadata": {},
   "outputs": [],
   "source": [
    "df_ytest = {idx: pd.DataFrame(test_probs[idx]).merge(pd.DataFrame(y), left_index=True, right_index=True, how=\"left\")\n",
    "            for idx in range(50)}\n",
    "acc_scores = [accuracy_score(_df[\"class\"].values, _df[\"yhat\"].values > 0.5) for _df in df_ytest.values()]"
   ]
  },
  {
   "cell_type": "code",
   "execution_count": 25,
   "metadata": {},
   "outputs": [],
   "source": [
    "def mean_over_combinations(results):\n",
    "    length = len(results)\n",
    "    mean_results = {}\n",
    "    for r in range(1, length + 1):\n",
    "        mean_results[r] = [\n",
    "            np.mean([res[\"yhat\"].values for res in comb], axis=0)\n",
    "            for comb in itertools.combinations(results, r=r)\n",
    "        ]\n",
    "        \n",
    "    return mean_results"
   ]
  },
  {
   "cell_type": "code",
   "execution_count": 26,
   "metadata": {},
   "outputs": [],
   "source": [
    "def accuracy_over_combinations(results):\n",
    "    mean_results = mean_over_combinations(results)\n",
    "    mean_accuracies = []\n",
    "    for r in mean_results.keys():\n",
    "        mean_accuracies += [\n",
    "            {\n",
    "                \"n_repeats\": r,\n",
    "                \"accuracy\": accuracy_score(results[0][\"class\"].values, res > 0.5)\n",
    "            } for res in mean_results[r]\n",
    "        ]\n",
    "        \n",
    "    return pd.DataFrame(mean_accuracies)\n",
    "\n",
    "def auc_over_combinations(results):\n",
    "    mean_results = mean_over_combinations(results)\n",
    "    mean_auc = []\n",
    "    for r in mean_results.keys():\n",
    "        mean_auc += [\n",
    "            {\n",
    "                \"n_repeats\": r,\n",
    "                \"auc\": roc_auc_score(results[0][\"class\"].values, res)\n",
    "            } for res in mean_results[r]\n",
    "        ]\n",
    "        \n",
    "    return pd.DataFrame(mean_auc)"
   ]
  },
  {
   "cell_type": "code",
   "execution_count": 27,
   "metadata": {},
   "outputs": [],
   "source": [
    "r0 = pd.concat([df_ytest[i] for i in range(10)]).sort_index()\n",
    "r1 = pd.concat([df_ytest[i] for i in range(10, 20)]).sort_index()\n",
    "r2 = pd.concat([df_ytest[i] for i in range(20, 30)]).sort_index()\n",
    "r3 = pd.concat([df_ytest[i] for i in range(30, 40)]).sort_index()\n",
    "r4 = pd.concat([df_ytest[i] for i in range(40, 50)]).sort_index()"
   ]
  },
  {
   "cell_type": "code",
   "execution_count": 28,
   "metadata": {},
   "outputs": [],
   "source": [
    "df_accuracies = accuracy_over_combinations([r0, r1, r2, r3, r4])\n",
    "df_auc = auc_over_combinations([r0, r1, r2, r3, r4])"
   ]
  },
  {
   "cell_type": "code",
   "execution_count": 29,
   "metadata": {},
   "outputs": [
    {
     "name": "stdout",
     "output_type": "stream",
     "text": [
      "0.9333333333333332\n",
      "0.01743041721945994\n"
     ]
    }
   ],
   "source": [
    "print(df_accuracies[df_accuracies[\"n_repeats\"] == 4][\"accuracy\"].mean())\n",
    "print(df_accuracies[df_accuracies[\"n_repeats\"] == 4][\"accuracy\"].std())"
   ]
  },
  {
   "cell_type": "code",
   "execution_count": 30,
   "metadata": {},
   "outputs": [
    {
     "name": "stdout",
     "output_type": "stream",
     "text": [
      "0.992013888888889\n",
      "0.004690713918786902\n"
     ]
    }
   ],
   "source": [
    "print(df_auc[df_auc[\"n_repeats\"] == 4][\"auc\"].mean())\n",
    "print(df_auc[df_auc[\"n_repeats\"] == 4][\"auc\"].std())"
   ]
  },
  {
   "cell_type": "code",
   "execution_count": 31,
   "metadata": {},
   "outputs": [],
   "source": [
    "import seaborn as sns\n",
    "\n",
    "%matplotlib inline"
   ]
  },
  {
   "cell_type": "code",
   "execution_count": 32,
   "metadata": {},
   "outputs": [
    {
     "data": {
      "text/plain": [
       "<seaborn.axisgrid.FacetGrid at 0x14edb4d30>"
      ]
     },
     "execution_count": 32,
     "metadata": {},
     "output_type": "execute_result"
    },
    {
     "data": {
      "image/png": "[encoded data removed]",
      "text/plain": [
       "<Figure size 360x360 with 1 Axes>"
      ]
     },
     "metadata": {
      "needs_background": "light"
     },
     "output_type": "display_data"
    }
   ],
   "source": [
    "sns.catplot(x=\"n_repeats\", y=\"accuracy\", data=df_accuracies)"
   ]
  },
  {
   "cell_type": "code",
   "execution_count": 33,
   "metadata": {},
   "outputs": [
    {
     "data": {
      "text/plain": [
       "<seaborn.axisgrid.FacetGrid at 0x12ab89c88>"
      ]
     },
     "execution_count": 33,
     "metadata": {},
     "output_type": "execute_result"
    },
    {
     "data": {
      "image/png": "[encoded data removed]",
      "text/plain": [
       "<Figure size 360x360 with 1 Axes>"
      ]
     },
     "metadata": {
      "needs_background": "light"
     },
     "output_type": "display_data"
    }
   ],
   "source": [
    "sns.catplot(x=\"n_repeats\", y=\"auc\", data=df_auc)"
   ]
  },
  {
   "cell_type": "code",
   "execution_count": 34,
   "metadata": {},
   "outputs": [],
   "source": [
    "y_y_hat = pd.concat([y, test_set_y_hat], axis='columns', sort=True)\n",
    "y_y_hat['index'] = np.arange(len(y), dtype=np.int32)\n",
    "y_y_hat.sort_values(['class', 'yhat'], inplace=True)\n",
    "y_y_hat['sorted_index'] = np.arange(len(y_y_hat))"
   ]
  },
  {
   "cell_type": "code",
   "execution_count": 35,
   "metadata": {},
   "outputs": [],
   "source": [
    "import beeswarm as bs"
   ]
  },
  {
   "cell_type": "code",
   "execution_count": 36,
   "metadata": {},
   "outputs": [],
   "source": [
    "list_of_preds = [y_y_hat.loc[y_y_hat['class'] == 0, 'yhat'].values, y_y_hat.loc[y_y_hat['class'] == 1, 'yhat'].values]"
   ]
  },
  {
   "cell_type": "code",
   "execution_count": 37,
   "metadata": {},
   "outputs": [
    {
     "data": {
      "image/png": "[encoded data removed]",
      "text/plain": [
       "<Figure size 432x288 with 1 Axes>"
      ]
     },
     "metadata": {
      "needs_background": "light"
     },
     "output_type": "display_data"
    }
   ],
   "source": [
    "df_bs, ax = bs.beeswarm(list_of_preds, s=23, method='swarm', positions=[0, 0.05], labels=['Control', 'ALS'], col=['blue', 'red'])"
   ]
  },
  {
   "cell_type": "code",
   "execution_count": 38,
   "metadata": {},
   "outputs": [],
   "source": [
    "df_bs.rename(columns=lambda x: 'yhat' if x == 'yorig' else x, inplace=True)\n",
    "df_bs.columns\n",
    "df_bs.sort_values(['xorig', 'yhat'], inplace=True)\n",
    "df_bs['sorted_index'] = np.arange(len(df_bs))"
   ]
  },
  {
   "cell_type": "code",
   "execution_count": 39,
   "metadata": {},
   "outputs": [
    {
     "data": {
      "text/html": [
       "<div>\n",
       "<style scoped>\n",
       "    .dataframe tbody tr th:only-of-type {\n",
       "        vertical-align: middle;\n",
       "    }\n",
       "\n",
       "    .dataframe tbody tr th {\n",
       "        vertical-align: top;\n",
       "    }\n",
       "\n",
       "    .dataframe thead th {\n",
       "        text-align: right;\n",
       "    }\n",
       "</style>\n",
       "<table border=\"1\" class=\"dataframe\">\n",
       "  <thead>\n",
       "    <tr style=\"text-align: right;\">\n",
       "      <th></th>\n",
       "      <th>class</th>\n",
       "      <th>yhat</th>\n",
       "      <th>index</th>\n",
       "      <th>xnew</th>\n",
       "      <th>ynew</th>\n",
       "      <th>color</th>\n",
       "      <th>predicted_class_text</th>\n",
       "    </tr>\n",
       "    <tr>\n",
       "      <th>subjectID</th>\n",
       "      <th></th>\n",
       "      <th></th>\n",
       "      <th></th>\n",
       "      <th></th>\n",
       "      <th></th>\n",
       "      <th></th>\n",
       "      <th></th>\n",
       "    </tr>\n",
       "  </thead>\n",
       "  <tbody>\n",
       "    <tr>\n",
       "      <th>subject_034</th>\n",
       "      <td>0</td>\n",
       "      <td>0.116153</td>\n",
       "      <td>34</td>\n",
       "      <td>0.000000</td>\n",
       "      <td>0.116153</td>\n",
       "      <td>blue</td>\n",
       "      <td>Predicted Control</td>\n",
       "    </tr>\n",
       "    <tr>\n",
       "      <th>subject_040</th>\n",
       "      <td>0</td>\n",
       "      <td>0.140697</td>\n",
       "      <td>40</td>\n",
       "      <td>0.001342</td>\n",
       "      <td>0.140697</td>\n",
       "      <td>blue</td>\n",
       "      <td>Predicted Control</td>\n",
       "    </tr>\n",
       "    <tr>\n",
       "      <th>subject_044</th>\n",
       "      <td>0</td>\n",
       "      <td>0.163399</td>\n",
       "      <td>44</td>\n",
       "      <td>-0.000819</td>\n",
       "      <td>0.163399</td>\n",
       "      <td>blue</td>\n",
       "      <td>Predicted Control</td>\n",
       "    </tr>\n",
       "    <tr>\n",
       "      <th>subject_026</th>\n",
       "      <td>0</td>\n",
       "      <td>0.186608</td>\n",
       "      <td>26</td>\n",
       "      <td>0.001157</td>\n",
       "      <td>0.186608</td>\n",
       "      <td>blue</td>\n",
       "      <td>Predicted Control</td>\n",
       "    </tr>\n",
       "    <tr>\n",
       "      <th>subject_042</th>\n",
       "      <td>0</td>\n",
       "      <td>0.197302</td>\n",
       "      <td>42</td>\n",
       "      <td>-0.003074</td>\n",
       "      <td>0.197302</td>\n",
       "      <td>blue</td>\n",
       "      <td>Predicted Control</td>\n",
       "    </tr>\n",
       "  </tbody>\n",
       "</table>\n",
       "</div>"
      ],
      "text/plain": [
       "             class      yhat  index      xnew      ynew color  \\\n",
       "subjectID                                                       \n",
       "subject_034      0  0.116153     34  0.000000  0.116153  blue   \n",
       "subject_040      0  0.140697     40  0.001342  0.140697  blue   \n",
       "subject_044      0  0.163399     44 -0.000819  0.163399  blue   \n",
       "subject_026      0  0.186608     26  0.001157  0.186608  blue   \n",
       "subject_042      0  0.197302     42 -0.003074  0.197302  blue   \n",
       "\n",
       "            predicted_class_text  \n",
       "subjectID                         \n",
       "subject_034    Predicted Control  \n",
       "subject_040    Predicted Control  \n",
       "subject_044    Predicted Control  \n",
       "subject_026    Predicted Control  \n",
       "subject_042    Predicted Control  "
      ]
     },
     "execution_count": 39,
     "metadata": {},
     "output_type": "execute_result"
    }
   ],
   "source": [
    "df_yhat = y_y_hat.join(df_bs, on='sorted_index', rsuffix='_bs')\n",
    "df_yhat.drop(['sorted_index', 'sorted_index_bs', 'xorig', 'yhat_bs'], axis='columns', inplace=True)\n",
    "df_yhat['predicted_class_text'] = df_yhat['yhat'].map(lambda x: 'Predicted ALS' if x > 0.5 else 'Predicted Control')\n",
    "df_yhat.loc[df_yhat['yhat'] <= 0.5, 'color'] = 'blue'\n",
    "df_yhat.loc[df_yhat['yhat'] > 0.5, 'color'] = 'red'\n",
    "df_yhat.head()"
   ]
  },
  {
   "cell_type": "code",
   "execution_count": 43,
   "metadata": {},
   "outputs": [],
   "source": [
    "width=1800\n",
    "height=900\n",
    "p = figure(plot_width=width, plot_height=height, toolbar_location=None,\n",
    "           tools=\"save\", x_range=(-0.0188, 0.065))\n",
    "p.y_range = Range1d(0, 1)\n",
    "\n",
    "source = ColumnDataSource(data=df_yhat)\n",
    "\n",
    "c0 = p.circle(source=source, x='xnew', y='ynew',\n",
    "              size=40, legend='predicted_class_text', color='color')\n",
    "\n",
    "l = p.line(x=[-0.0188, 0.065], y=[0.5, 0.5], line_width=10, color='black', line_dash='dashed')\n",
    "hover = HoverTool(\n",
    "    tooltips=[(\"Subject\", \"@index\"),\n",
    "              (\"P(ALS)\", \"@yhat\")],\n",
    "    renderers=[c0]\n",
    ")\n",
    "hover.point_policy = 'snap_to_data'\n",
    "hover.line_policy = 'nearest'\n",
    "\n",
    "p.add_tools(hover)\n",
    "\n",
    "legend = p.legend[0]\n",
    "p.add_layout(legend, 'right')\n",
    "\n",
    "p.xaxis.axis_label = \"Class\"\n",
    "p.xaxis.ticker = FixedTicker(ticks=[0, 0.05])\n",
    "p.xaxis.major_label_overrides = {0: 'Control', 0.05: 'ALS'}\n",
    "p.xaxis.major_label_text_font_size = \"44pt\"\n",
    "p.xaxis.minor_tick_line_color = None  # turn off x-axis minor ticks\n",
    "#p.xaxis.major_label_text_font_size = '0pt'  # turn off x-axis tick labels\n",
    "p.yaxis.axis_label = \"Classification Probability\"\n",
    "p.title.text_font_size = \"46pt\"\n",
    "p.xaxis.axis_label_text_font_size = \"46pt\"\n",
    "p.yaxis.axis_label_text_font_size = \"46pt\"\n",
    "p.yaxis.major_label_text_font_size = \"44pt\"\n",
    "\n",
    "p.legend.label_text_font_size = '44pt'\n",
    "p.legend.glyph_height = 135\n",
    "p.legend.glyph_width = 135\n",
    "\n",
    "output_html = \"../docs/img/bokeh_plots/classification_probs.html\"\n",
    "if output_html is not None:\n",
    "    html = file_html(p, CDN, \"my plot\")\n",
    "    with open(op.abspath(output_html), 'w') as fp:\n",
    "        fp.write(html)\n",
    "\n",
    "# export_png(p, filename=\"classification_probs.png\")\n",
    "\n",
    "# show(p)"
   ]
  },
  {
   "cell_type": "markdown",
   "metadata": {},
   "source": [
    "Using the hover tool on the chart above, we can see that subjects 05, 16, 19, 32, 35, 36 are all hard to classify (i.e. they are closer to the classification threshold of 0.5). We should fire up the AFQ browser and look at how these subjects compare to the rest of the subjects in their group.\n",
    "\n",
    "Here are links to a running instance of AFQ-Browser with the hard to classify subjects:\n",
    "- [False negatives](https://yeatmanlab.github.io/Sarica_2017/?table[prevSort][count]=2&table[prevSort][order]=ascending&table[prevSort][key]=&table[sort][count]=2&table[sort][order]=ascending&table[sort][key]=class&table[selectedRows][subject_005]=true&table[selectedRows][subject_016]=true&table[selectedRows][subject_019]=true&table[selectedRows][subject_030]=false&table[selectedRows][subject_032]=false&table[selectedRows][subject_035]=false&table[selectedRows][subject_036]=false&plots[checkboxes][right-corticospinal]=true&plots[zoom][rd][scale]=1&plots[zoom][rd][translate][0]=-3&plots[zoom][rd][translate][1]=-21&plots[zoom][fa][scale]=2.1140360811227614&plots[zoom][fa][translate][0]=-27.244995845837778&plots[zoom][fa][translate][1]=-106.10468474511174&plots[plotKey]=fa&plots[errorType]=stderr&plots[lineOpacity]=0.0)\n",
    "- [False positives](https://yeatmanlab.github.io/Sarica_2017/?table[prevSort][count]=2&table[prevSort][order]=ascending&table[prevSort][key]=&table[sort][count]=2&table[sort][order]=ascending&table[sort][key]=class&table[selectedRows][subject_005]=false&table[selectedRows][subject_007]=false&table[selectedRows][subject_016]=false&table[selectedRows][subject_019]=false&table[selectedRows][subject_032]=true&table[selectedRows][subject_035]=true&table[selectedRows][subject_036]=true&plots[checkboxes][right-corticospinal]=true&plots[zoom][rd][scale]=1&plots[zoom][rd][translate][0]=-3&plots[zoom][rd][translate][1]=-21&plots[zoom][fa][scale]=2.1140360811227614&plots[zoom][fa][translate][0]=-27.244995845837778&plots[zoom][fa][translate][1]=-106.10468474511174&plots[plotKey]=fa&plots[errorType]=stderr&plots[lineOpacity]=0.0)"
   ]
  },
  {
   "cell_type": "markdown",
   "metadata": {},
   "source": [
    "# Feature Importance"
   ]
  },
  {
   "cell_type": "markdown",
   "metadata": {},
   "source": [
    "Let's sort the features by their importance"
   ]
  },
  {
   "cell_type": "code",
   "execution_count": 44,
   "metadata": {},
   "outputs": [],
   "source": [
    "columns_md_fa = columns.drop(['ad', 'cl', 'curvature', 'rd', 'torsion', 'volume'], level=0)\n",
    "columns_md_fa = columns_md_fa.remove_unused_levels()"
   ]
  },
  {
   "cell_type": "code",
   "execution_count": 45,
   "metadata": {},
   "outputs": [],
   "source": [
    "feature_dicts = afqi.multicol2dicts(columns, tract_symmetry=False)\n",
    "mean_beta = np.mean(np.array([np.delete(res[\"beta_hat\"], bias_index) for res in hp_cv_res_acc_reload_add]),\n",
    "                    axis=0)\n",
    "\n",
    "var_beta = np.std(np.array([np.delete(res[\"beta_hat\"], bias_index) for res in hp_cv_res_acc_reload_add]),\n",
    "                    axis=0)\n",
    "\n",
    "sorted_features = afqi.sort_features(feature_dicts, mean_beta)"
   ]
  },
  {
   "cell_type": "markdown",
   "metadata": {},
   "source": [
    "It's nice to see the top few features in a sorted list, but let's plot the features to get a feel for their distributions"
   ]
  },
  {
   "cell_type": "code",
   "execution_count": 46,
   "metadata": {},
   "outputs": [],
   "source": [
    "beta_hats = afqi.beta_hat_by_groups(mean_beta, columns=columns, drop_zeros=True)\n",
    "beta_hats_var = afqi.beta_hat_by_groups(var_beta, columns=columns, drop_zeros=True)"
   ]
  },
  {
   "cell_type": "markdown",
   "metadata": {},
   "source": [
    "First let's plot the coefficients themselves"
   ]
  },
  {
   "cell_type": "code",
   "execution_count": 47,
   "metadata": {},
   "outputs": [],
   "source": [
    "unfolded_beta = afqi.transform.unfold_beta_hat_by_metrics(\n",
    "    beta_hat=mean_beta,\n",
    "    columns=columns\n",
    ")\n",
    "\n",
    "unfolded_beta_std = afqi.transform.unfold_beta_hat_by_metrics(\n",
    "    beta_hat=var_beta,\n",
    "    columns=columns\n",
    ")"
   ]
  },
  {
   "cell_type": "code",
   "execution_count": 48,
   "metadata": {},
   "outputs": [],
   "source": [
    "unfolded_beta_with_err = {\n",
    "    'fa': unfolded_beta['fa'],\n",
    "    'fa_hi': unfolded_beta['fa'] + unfolded_beta_std['fa'],\n",
    "    'fa_lo': unfolded_beta['fa'] - unfolded_beta_std['fa'],\n",
    "    'md': unfolded_beta['md'],\n",
    "    'md_hi': unfolded_beta['md'] + unfolded_beta_std['md'],\n",
    "    'md_lo': unfolded_beta['md'] - unfolded_beta_std['md'],\n",
    "}"
   ]
  },
  {
   "cell_type": "code",
   "execution_count": 49,
   "metadata": {},
   "outputs": [],
   "source": [
    "# width = 1150\n",
    "# height = 700\n",
    "# output_html = None\n",
    "\n",
    "# p = figure(plot_width=width, plot_height=height, toolbar_location='above',\n",
    "#               tools=\"save\")\n",
    "# p.title.text = 'Feature weights in the \"unfolded\" brain'\n",
    "\n",
    "# len_alltracts = len(unfolded_beta[list(unfolded_beta.keys())[0]])\n",
    "# n_tracts = len(afqi.utils.canonical_tract_names)\n",
    "# n_nodes = len_alltracts / n_tracts\n",
    "# ticks = np.arange(0, len_alltracts, n_nodes)\n",
    "\n",
    "# p.xaxis.ticker = FixedTicker(ticks=[ticks[4] + n_nodes/2, ticks[-4] - n_nodes/2],\n",
    "#                              minor_ticks=[ticks[0], ticks[9], ticks[11], ticks[-1] + n_nodes])\n",
    "# p.xaxis.major_label_overrides = {int(ticks[4] + n_nodes/2): 'Left Hemisphere',\n",
    "#                                  int(ticks[-4] - n_nodes/2): 'Right Hemisphere'}\n",
    "\n",
    "# p.xaxis.minor_tick_line_color = None  # turn off x-axis minor ticks\n",
    "# p.xaxis.major_tick_line_color = None  # turn off x-axis major ticks\n",
    "\n",
    "# p.xaxis.major_label_text_font_size = '14pt'  # turn off x-axis tick labels\n",
    "\n",
    "# p.x_range = Range1d(0, len_alltracts)\n",
    "# p.xgrid.grid_line_color = None\n",
    "\n",
    "# tract_colors = np.copy(palettable.tableau.Tableau_20.hex_colors).tolist()\n",
    "# tract_colors = (tract_colors[1:-2:2]\n",
    "#                 + tract_colors[-2:]\n",
    "#                 + tract_colors[-3::-2])\n",
    "\n",
    "# for i, color in enumerate(tract_colors):\n",
    "#     p.add_layout(BoxAnnotation(\n",
    "#         left=ticks[i], right=ticks[i] + n_nodes,\n",
    "#         fill_color=color, fill_alpha=0.15\n",
    "#     ))\n",
    "\n",
    "#     p.add_layout(Label(\n",
    "#         x=ticks[i] + n_nodes / 2,\n",
    "#         y=10,\n",
    "#         x_units='data',\n",
    "#         y_units='screen',\n",
    "#         text=afqi.utils.canonical_tract_names[i].replace('Left ', '').replace('Right ',''),\n",
    "#         render_mode='canvas',\n",
    "#         border_line_alpha=0.0,\n",
    "#         background_fill_alpha=0.0,\n",
    "#         angle=np.pi / 2,\n",
    "#         text_align='left',\n",
    "#         text_baseline='middle'\n",
    "#     ))\n",
    "\n",
    "# p.add_layout(BoxAnnotation(\n",
    "#     left=ticks[0], right=ticks[9],\n",
    "#     fill_color=None, fill_alpha=0.0,\n",
    "#     line_color=\"black\", line_width=4\n",
    "# ))\n",
    "# p.add_layout(BoxAnnotation(\n",
    "#     left=ticks[9], right=ticks[11],\n",
    "#     fill_color=None, fill_alpha=0.0,\n",
    "#     line_color=\"black\", line_width=4\n",
    "# ))\n",
    "# p.add_layout(BoxAnnotation(\n",
    "#     left=ticks[11], right=ticks[-1] + n_nodes,\n",
    "#     fill_color=None, fill_alpha=0.0,\n",
    "#     line_color=\"black\", line_width=4\n",
    "# ))\n",
    "    \n",
    "# unfolded_beta_with_err['x'] = np.arange(len_alltracts)\n",
    "# source = ColumnDataSource(data=unfolded_beta_with_err)\n",
    "# del unfolded_beta_with_err['x']\n",
    "\n",
    "# lines = {}\n",
    "# for name, color in zip(\n",
    "#         unfolded_beta.keys(),\n",
    "#         Category10[max(len(list(unfolded_beta.keys())),\n",
    "#                        min(list(Category10.keys())))]\n",
    "# ):\n",
    "#     lines[name] = p.line(\n",
    "#         x='x', y=name, source=source, name=name,\n",
    "#         line_width=3, color=color\n",
    "#     )\n",
    "#     lines[name + '_hi'] = p.line(\n",
    "#         x='x', y=name + '_hi', source=source, name=name,\n",
    "#         line_width=1, color=color\n",
    "#     )\n",
    "#     lines[name + '_lo'] = p.line(\n",
    "#         x='x', y=name + '_lo', source=source, name=name,\n",
    "#         line_width=1, color=color\n",
    "#     )\n",
    "\n",
    "# p.add_tools(HoverTool(\n",
    "#     show_arrow=False,\n",
    "#     line_policy='interp',\n",
    "#     tooltips=[\n",
    "#         ('metric', '$name'),\n",
    "#         ('beta', '$y'),\n",
    "#     ],\n",
    "#     point_policy='snap_to_data',\n",
    "#     renderers=list(lines.values())\n",
    "# ))\n",
    "\n",
    "# legend = Legend(items=[\n",
    "#     (name, [renderer]) for name, renderer in lines.items()\n",
    "# ], location=(0, 70))\n",
    "\n",
    "# p.add_layout(\n",
    "#     Title(text='Click on legend entries to hide/show lines',\n",
    "#           align=\"left\"), 'right'\n",
    "# )\n",
    "# p.add_layout(legend, 'right')\n",
    "# p.legend.click_policy = 'hide'\n",
    "\n",
    "# p.title.text_font_size = \"18pt\"\n",
    "# p.yaxis.axis_label = \"β\"\n",
    "# p.yaxis.axis_label_text_font_size = \"18pt\"\n",
    "\n",
    "# # output_html = \"../docs/img/bokeh_plots/classification_unfolded_beta.html\"\n",
    "# # if output_html is not None:\n",
    "# #     html = file_html(p, CDN, \"my plot\")\n",
    "# #     with open(op.abspath(output_html), 'w') as fp:\n",
    "# #         fp.write(html)\n",
    "\n",
    "# show(p)"
   ]
  },
  {
   "cell_type": "code",
   "execution_count": 77,
   "metadata": {},
   "outputs": [],
   "source": [
    "from dipy.viz import window, actor, panel\n",
    "from dipy.data import fetch_bundles_2_subjects, read_bundles_2_subjects\n",
    "from dipy.tracking.streamline import transform_streamlines\n",
    "from dipy.viz import colormap\n",
    "from dipy.viz import ui\n",
    "\n",
    "import json"
   ]
  },
  {
   "cell_type": "code",
   "execution_count": 51,
   "metadata": {},
   "outputs": [],
   "source": [
    "with open(\"../data/raw/core_streamlines.json\") as fp:\n",
    "    cores = json.load(fp)"
   ]
  },
  {
   "cell_type": "code",
   "execution_count": 52,
   "metadata": {},
   "outputs": [],
   "source": [
    "# import deepdish as dd"
   ]
  },
  {
   "cell_type": "code",
   "execution_count": 53,
   "metadata": {},
   "outputs": [],
   "source": [
    "# dd.io.save(\"als_classify_betas.h5\", beta_hats)"
   ]
  },
  {
   "cell_type": "code",
   "execution_count": 54,
   "metadata": {},
   "outputs": [],
   "source": [
    "encode_variance = False"
   ]
  },
  {
   "cell_type": "code",
   "execution_count": 91,
   "metadata": {},
   "outputs": [],
   "source": [
    "renderer = window.Renderer()\n",
    "\n",
    "renderer.background((1, 1, 1))\n",
    "metric = \"fa\"\n",
    "colors = np.concatenate([beta_hats[bn][metric] for bn in beta_hats.keys()])\n",
    "bundle_names = beta_hats.keys()\n",
    "bundles = [np.array(cores[bn][\"coreFiber\"]) for bn in bundle_names]\n",
    "cmap = actor.create_colormap(colors, name=\"BuPu_r\")\n",
    "\n",
    "if encode_variance:\n",
    "    alpha = np.concatenate([beta_hats_var[bn][metric] for bn in beta_hats.keys()])[:, np.newaxis]\n",
    "    alpha = np.interp(alpha, (alpha.min(), alpha.max()), (1, 0))\n",
    "    cmap = np.hstack([cmap, alpha])\n",
    "\n",
    "stream_actor = actor.line(\n",
    "    lines=bundles,\n",
    "    colors=cmap,\n",
    "    linewidth=20,\n",
    "    spline_subdiv=5000,\n",
    "    fake_tube=False,\n",
    ")\n",
    "\n",
    "ctable = colormap.colormap_lookup_table(scale_range=(np.min(colors), -np.min(colors)))\n",
    "ctable.SetNumberOfTableValues(2000)\n",
    "cmap_sorted = actor.create_colormap(np.sort(colors), name=\"BuPu_r\")\n",
    "for idx, col in enumerate(cmap_sorted):\n",
    "    ctable.SetTableValue(idx, col[0], col[1], col[2], 1.0)\n",
    "\n",
    "ctable.SetTableRange(np.min(colors), np.max(colors))\n",
    "cbar = actor.scalar_bar(ctable)\n",
    "tprop = cbar.GetLabelTextProperty()\n",
    "tprop.SetColor(0.0, 0.0, 0.0)\n",
    "cbar.SetLabelTextProperty(tprop)\n",
    "\n",
    "renderer.set_camera(\n",
    "    position=(8.90, 291.48, 153.57),\n",
    "    focal_point=(3.23, -23.03, 18.32),\n",
    "    view_up=(0.00, -0.40, 0.92)\n",
    ")\n",
    "\n",
    "renderer.add(stream_actor)\n",
    "vtk_axes = actor.axes(scale=(30, 30, 30))\n",
    "vtk_axes.SetPosition((0, 0, -55))\n",
    "renderer.add(vtk_axes)\n",
    "\n",
    "# panel_actor = ui.Panel2D(size=(100, 100))\n",
    "# panel_actor.add_element(element=vtk_axes, coords=(0.2, 0.2))\n",
    "# renderer.add(panel_actor)\n",
    "\n",
    "cbar.SetPosition((0.82, 0.3))\n",
    "renderer.add(cbar)\n",
    "window.show(renderer, size=(1800, 1800))\n",
    "# window.record(renderer, out_path='classification_beta_bupu.png', size=(1800, 1800))"
   ]
  },
  {
   "cell_type": "code",
   "execution_count": 96,
   "metadata": {},
   "outputs": [
    {
     "data": {
      "text/plain": [
       "(0.82, 0.1)"
      ]
     },
     "execution_count": 96,
     "metadata": {},
     "output_type": "execute_result"
    }
   ],
   "source": [
    "cbar.GetPosition()"
   ]
  },
  {
   "cell_type": "code",
   "execution_count": 71,
   "metadata": {},
   "outputs": [
    {
     "name": "stdout",
     "output_type": "stream",
     "text": [
      "# Active Camera\n",
      "   Position (8.90, 291.48, 153.57)\n",
      "   Focal Point (3.23, -23.03, 18.32)\n",
      "   View Up (0.00, -0.40, 0.92)\n"
     ]
    }
   ],
   "source": [
    "renderer.camera_info()"
   ]
  },
  {
   "cell_type": "code",
   "execution_count": 100,
   "metadata": {},
   "outputs": [],
   "source": [
    "subjects = pd.read_csv(\"../data/raw/als_data/subjects.csv\")\n",
    "nodes = pd.read_csv(\"../data/raw/als_data/nodes.csv\")\n",
    "merged = pd.merge(nodes, subjects, on=\"subjectID\")\n",
    "stats = nodes.columns.drop([\"subjectID\", \"tractID\", \"nodeID\"])\n",
    "stat = merged[[\"nodeID\", \"tractID\", \"fa\", \"class\"]]"
   ]
  },
  {
   "cell_type": "code",
   "execution_count": 101,
   "metadata": {},
   "outputs": [],
   "source": [
    "tract_names = [\"Right Corticospinal\",]\n",
    "tract_stats = {}\n",
    "for tid in tract_names:\n",
    "    tract_stats[tid] = stat[stat[\"tractID\"] == tid].drop(\"tractID\", axis=\"columns\")"
   ]
  },
  {
   "cell_type": "code",
   "execution_count": 102,
   "metadata": {},
   "outputs": [
    {
     "data": {
      "image/png": "[encoded data removed]",
      "text/plain": [
       "<Figure size 144x72 with 1 Axes>"
      ]
     },
     "metadata": {
      "needs_background": "light"
     },
     "output_type": "display_data"
    },
    {
     "data": {
      "image/png": "[encoded data removed]",
      "text/plain": [
       "<Figure size 144x72 with 1 Axes>"
      ]
     },
     "metadata": {
      "needs_background": "light"
     },
     "output_type": "display_data"
    },
    {
     "data": {
      "image/png": "[encoded data removed]",
      "text/plain": [
       "<Figure size 144x72 with 1 Axes>"
      ]
     },
     "metadata": {
      "needs_background": "light"
     },
     "output_type": "display_data"
    }
   ],
   "source": [
    "cat2 = [\"#1b9e77\",\"#d95f02\"]\n",
    "sns.palplot(sns.color_palette(cat2))\n",
    "sns.palplot(sns.color_palette(\"cubehelix\", 2))\n",
    "sns.palplot(sns.cubehelix_palette(2, dark=0.1, light=0.9))"
   ]
  },
  {
   "cell_type": "code",
   "execution_count": 103,
   "metadata": {},
   "outputs": [
    {
     "data": {
      "image/png": "[encoded data removed]",
      "text/plain": [
       "<Figure size 1152x504 with 2 Axes>"
      ]
     },
     "metadata": {
      "needs_background": "light"
     },
     "output_type": "display_data"
    }
   ],
   "source": [
    "fig, ax = plt.subplots(nrows=1, ncols=1, figsize=(16, 7))\n",
    "ticksize = 14\n",
    "labelsize = 18\n",
    "titlesize = 24\n",
    "bgcolor = \"whitesmoke\"\n",
    "\n",
    "df_stat = tract_stats[tract_names[0]]\n",
    "title = tract_names[0]\n",
    "\n",
    "sns.lineplot(\n",
    "    x=\"nodeID\", y=\"fa\", hue=\"class\", data=df_stat,\n",
    "    ci=68.2, palette=cat2,\n",
    "    ax=ax,\n",
    "    linewidth=5.0\n",
    ")\n",
    "\n",
    "_ = ax.set_xlabel(\"% distance along fiber bundle\", fontsize=labelsize)\n",
    "_ = ax.set_ylabel(\"Fractional Anisotropy (FA)\", fontsize=labelsize)\n",
    "_ = ax.tick_params(axis='both', which='major', labelsize=ticksize)\n",
    "_ = ax.set_facecolor(bgcolor)\n",
    "_ = ax.get_legend().remove()\n",
    "    \n",
    "box = ax.get_position()\n",
    "ax.set_position([box.x0, box.y0 + box.height * 0.1,\n",
    "                 box.width, box.height * 0.9])\n",
    "\n",
    "ax2 = ax.twinx()\n",
    "beta_line = ax2.plot(beta_hats[title][\"fa\"], linestyle=\"--\", color=\"black\")\n",
    "_ = ax2.set_ylabel(r\"$\\langle \\widehat{\\beta} \\rangle$\", fontsize=labelsize)\n",
    "_ = ax2.tick_params(axis='both', which='major', labelsize=ticksize)\n",
    "\n",
    "_ = ax.set_title(tract_names[0] + \" Tract Profile\", fontsize=titlesize)\n",
    "\n",
    "handles, labels = ax.get_legend_handles_labels()\n",
    "handles = handles[1:] + beta_line\n",
    "labels = [\"ALS\",\n",
    "          \"Control\",\n",
    "          r\"$\\langle \\widehat{\\beta} \\rangle$\"]\n",
    "\n",
    "fig.subplots_adjust(bottom=0.22, wspace=0.3)\n",
    "\n",
    "leg = plt.figlegend(\n",
    "    handles, labels,\n",
    "    fontsize=labelsize, facecolor=\"gainsboro\",\n",
    "    bbox_to_anchor=(0.4325, -0.01),\n",
    "    loc=\"lower center\",\n",
    "    ncol=6\n",
    ")\n",
    "\n",
    "# set the linewidth of each legend object\n",
    "for legobj in leg.legendHandles:\n",
    "    legobj.set_linewidth(5.0)\n",
    "\n",
    "fig.savefig(\"classification_tract_profiles.pdf\", bbox_inches=\"tight\")"
   ]
  },
  {
   "cell_type": "code",
   "execution_count": null,
   "metadata": {},
   "outputs": [],
   "source": [
    "np.mean([np.count_nonzero(cv[\"beta_hat\"]) / len(cv[\"beta_hat\"]) for cv in hp_cv_res_acc_reload_add])"
   ]
  },
  {
   "cell_type": "code",
   "execution_count": null,
   "metadata": {},
   "outputs": [],
   "source": []
  }
 ],
 "metadata": {
  "kernelspec": {
   "display_name": "Python 3",
   "language": "python",
   "name": "python3"
  },
  "language_info": {
   "codemirror_mode": {
    "name": "ipython",
    "version": 3
   },
   "file_extension": ".py",
   "mimetype": "text/x-python",
   "name": "python",
   "nbconvert_exporter": "python",
   "pygments_lexer": "ipython3",
   "version": "3.7.0"
  }
 },
 "nbformat": 4,
 "nbformat_minor": 2
}
